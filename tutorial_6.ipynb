{
 "cells": [
  {
   "cell_type": "code",
   "execution_count": 69,
   "metadata": {
    "collapsed": true
   },
   "outputs": [],
   "source": [
    "def gender_features(word):\n",
    "...     return {'last_letter': word[-1]}"
   ]
  },
  {
   "cell_type": "code",
   "execution_count": 70,
   "metadata": {
    "collapsed": false
   },
   "outputs": [
    {
     "data": {
      "text/plain": [
       "{'last_letter': 'k'}"
      ]
     },
     "execution_count": 70,
     "metadata": {},
     "output_type": "execute_result"
    }
   ],
   "source": [
    "gender_features('Shrek')"
   ]
  },
  {
   "cell_type": "code",
   "execution_count": 71,
   "metadata": {
    "collapsed": false
   },
   "outputs": [],
   "source": [
    "import nltk\n",
    "from nltk.corpus import names\n",
    "labeled_names = ([(name, 'male') for name in names.words('male.txt')] + [(name, 'female') for name in names.words('female.txt')])"
   ]
  },
  {
   "cell_type": "code",
   "execution_count": 72,
   "metadata": {
    "collapsed": true
   },
   "outputs": [],
   "source": [
    "import random\n",
    "random.shuffle(labeled_names)"
   ]
  },
  {
   "cell_type": "code",
   "execution_count": 73,
   "metadata": {
    "collapsed": true
   },
   "outputs": [],
   "source": [
    "featuresets = [(gender_features(n), gender) for (n, gender) in labeled_names]\n",
    "train_set, test_set = featuresets[500:], featuresets[:500]\n",
    "classifier = nltk.NaiveBayesClassifier.train(train_set)"
   ]
  },
  {
   "cell_type": "code",
   "execution_count": 74,
   "metadata": {
    "collapsed": false
   },
   "outputs": [
    {
     "data": {
      "text/plain": [
       "'male'"
      ]
     },
     "execution_count": 74,
     "metadata": {},
     "output_type": "execute_result"
    }
   ],
   "source": [
    "classifier.classify(gender_features('Neo'))"
   ]
  },
  {
   "cell_type": "code",
   "execution_count": 75,
   "metadata": {
    "collapsed": false
   },
   "outputs": [
    {
     "data": {
      "text/plain": [
       "'female'"
      ]
     },
     "execution_count": 75,
     "metadata": {},
     "output_type": "execute_result"
    }
   ],
   "source": [
    "classifier.classify(gender_features('Trinity'))"
   ]
  },
  {
   "cell_type": "code",
   "execution_count": 76,
   "metadata": {
    "collapsed": false
   },
   "outputs": [
    {
     "name": "stdout",
     "output_type": "stream",
     "text": [
      "0.758\n"
     ]
    }
   ],
   "source": [
    "print(nltk.classify.accuracy(classifier, test_set))"
   ]
  },
  {
   "cell_type": "code",
   "execution_count": 77,
   "metadata": {
    "collapsed": false
   },
   "outputs": [
    {
     "name": "stdout",
     "output_type": "stream",
     "text": [
      "Most Informative Features\n",
      "             last_letter = u'a'           female : male   =     34.4 : 1.0\n",
      "             last_letter = u'k'             male : female =     32.3 : 1.0\n",
      "             last_letter = u'f'             male : female =     16.0 : 1.0\n",
      "             last_letter = u'p'             male : female =     11.9 : 1.0\n",
      "             last_letter = u'd'             male : female =     10.7 : 1.0\n"
     ]
    }
   ],
   "source": [
    "classifier.show_most_informative_features(5)"
   ]
  },
  {
   "cell_type": "code",
   "execution_count": 78,
   "metadata": {
    "collapsed": true
   },
   "outputs": [],
   "source": [
    "def gender_features2(word):\n",
    "...     return {'last_letter': word[-1], 'length_name': len(word)}"
   ]
  },
  {
   "cell_type": "code",
   "execution_count": 79,
   "metadata": {
    "collapsed": false
   },
   "outputs": [
    {
     "data": {
      "text/plain": [
       "{'last_letter': 'k', 'length_name': 5}"
      ]
     },
     "execution_count": 79,
     "metadata": {},
     "output_type": "execute_result"
    }
   ],
   "source": [
    "gender_features2('Shrek')"
   ]
  },
  {
   "cell_type": "code",
   "execution_count": 80,
   "metadata": {
    "collapsed": false
   },
   "outputs": [],
   "source": [
    "labeled_names2 = ([(name, 'male', len(name)) for name in names.words('male.txt')] + [(name, 'female', len(name)) for name in names.words('female.txt')])\n",
    "\n",
    "random.shuffle(labeled_names2)\n",
    "\n",
    "featuresets2 = [(gender_features2(n), gender, length) for (n, gender, length) in labeled_names2]\n",
    "\n",
    "from nltk.classify import apply_features\n",
    "\n",
    "train_set2 = apply_features(gender_features2, labeled_names2[500:])\n",
    "test_set2 = apply_features(gender_features2, labeled_names2[:500])\n",
    "\n",
    "classifier2 = nltk.NaiveBayesClassifier.train(train_set2)"
   ]
  },
  {
   "cell_type": "code",
   "execution_count": 81,
   "metadata": {
    "collapsed": false
   },
   "outputs": [
    {
     "data": {
      "text/plain": [
       "{'last_letter': 'k', 'length_name': 5}"
      ]
     },
     "execution_count": 81,
     "metadata": {},
     "output_type": "execute_result"
    }
   ],
   "source": [
    "gender_features2('Shrek')"
   ]
  },
  {
   "cell_type": "code",
   "execution_count": 82,
   "metadata": {
    "collapsed": false
   },
   "outputs": [
    {
     "data": {
      "text/plain": [
       "'male'"
      ]
     },
     "execution_count": 82,
     "metadata": {},
     "output_type": "execute_result"
    }
   ],
   "source": [
    "classifier2.classify(gender_features2('Neo'))"
   ]
  },
  {
   "cell_type": "code",
   "execution_count": 83,
   "metadata": {
    "collapsed": false
   },
   "outputs": [
    {
     "name": "stdout",
     "output_type": "stream",
     "text": [
      "Most Informative Features\n",
      "             last_letter = u'a'           female : male   =     34.1 : 1.0\n",
      "             last_letter = u'k'             male : female =     32.8 : 1.0\n",
      "             last_letter = u'f'             male : female =     27.7 : 1.0\n",
      "             last_letter = u'p'             male : female =     11.9 : 1.0\n",
      "             last_letter = u'v'             male : female =     10.5 : 1.0\n",
      "             last_letter = u'd'             male : female =      9.6 : 1.0\n",
      "             last_letter = u'o'             male : female =      8.8 : 1.0\n",
      "             last_letter = u'm'             male : female =      8.0 : 1.0\n",
      "             last_letter = u'r'             male : female =      6.7 : 1.0\n",
      "             last_letter = u'w'             male : female =      6.6 : 1.0\n",
      "             last_letter = u'u'             male : female =      4.7 : 1.0\n",
      "             last_letter = u'g'             male : female =      4.6 : 1.0\n",
      "             last_letter = u's'             male : female =      4.1 : 1.0\n",
      "             last_letter = u't'             male : female =      4.1 : 1.0\n",
      "             last_letter = u'z'             male : female =      4.0 : 1.0\n",
      "             last_letter = u'i'           female : male   =      3.6 : 1.0\n",
      "             last_letter = u'b'             male : female =      3.5 : 1.0\n",
      "             last_letter = u'j'             male : female =      2.8 : 1.0\n",
      "             length_name = 2                male : female =      2.4 : 1.0\n",
      "             last_letter = u'n'             male : female =      2.1 : 1.0\n",
      "             length_name = 3                male : female =      2.1 : 1.0\n",
      "             last_letter = u'e'           female : male   =      1.8 : 1.0\n",
      "             last_letter = u'l'             male : female =      1.7 : 1.0\n",
      "             length_name = 15               male : female =      1.7 : 1.0\n",
      "             last_letter = u'h'             male : female =      1.5 : 1.0\n",
      "             length_name = 10             female : male   =      1.5 : 1.0\n",
      "             length_name = 9              female : male   =      1.4 : 1.0\n",
      "             last_letter = u'x'             male : female =      1.4 : 1.0\n",
      "             length_name = 11             female : male   =      1.3 : 1.0\n",
      "             length_name = 4                male : female =      1.2 : 1.0\n",
      "             last_letter = u'y'             male : female =      1.2 : 1.0\n",
      "             length_name = 7              female : male   =      1.1 : 1.0\n",
      "             length_name = 8              female : male   =      1.1 : 1.0\n",
      "             length_name = 5              female : male   =      1.1 : 1.0\n",
      "             length_name = 12               male : female =      1.1 : 1.0\n",
      "             length_name = 6                male : female =      1.1 : 1.0\n",
      "             length_name = 13               male : female =      1.0 : 1.0\n"
     ]
    }
   ],
   "source": [
    "classifier2.show_most_informative_features(50)"
   ]
  },
  {
   "cell_type": "code",
   "execution_count": 84,
   "metadata": {
    "collapsed": true
   },
   "outputs": [],
   "source": [
    "def gender_features2(name):\n",
    "    features = {}\n",
    "    features[\"first_letter\"] = name[0].lower()\n",
    "    features[\"last_letter\"] = name[-1].lower()\n",
    "    for letter in 'abcdefghijklmnopqrstuvwxyz':\n",
    "        features[\"count({})\".format(letter)] = name.lower().count(letter)\n",
    "        features[\"has({})\".format(letter)] = (letter in name.lower())\n",
    "    return features"
   ]
  },
  {
   "cell_type": "code",
   "execution_count": 85,
   "metadata": {
    "collapsed": false
   },
   "outputs": [
    {
     "name": "stdout",
     "output_type": "stream",
     "text": [
      "0.774\n"
     ]
    }
   ],
   "source": [
    "featuresets = [(gender_features2(n), gender) for (n, gender) in labeled_names]\n",
    "train_set, test_set = featuresets[500:], featuresets[:500]\n",
    "classifier = nltk.NaiveBayesClassifier.train(train_set)\n",
    "print(nltk.classify.accuracy(classifier, test_set))"
   ]
  },
  {
   "cell_type": "code",
   "execution_count": 86,
   "metadata": {
    "collapsed": true
   },
   "outputs": [],
   "source": [
    "train_names = labeled_names[1500:]\n",
    "devtest_names = labeled_names[500:1500]\n",
    "test_names = labeled_names[:500]"
   ]
  },
  {
   "cell_type": "code",
   "execution_count": 87,
   "metadata": {
    "collapsed": false
   },
   "outputs": [
    {
     "name": "stdout",
     "output_type": "stream",
     "text": [
      "0.755\n"
     ]
    }
   ],
   "source": [
    "train_set = [(gender_features(n), gender) for (n, gender) in train_names]\n",
    "devtest_set = [(gender_features(n), gender) for (n, gender) in devtest_names]\n",
    "test_set = [(gender_features(n), gender) for (n, gender) in test_names]\n",
    "classifier = nltk.NaiveBayesClassifier.train(train_set)\n",
    "print(nltk.classify.accuracy(classifier, devtest_set))"
   ]
  },
  {
   "cell_type": "code",
   "execution_count": 88,
   "metadata": {
    "collapsed": true
   },
   "outputs": [],
   "source": [
    "errors = []\n",
    "for (name, tag) in devtest_names:\n",
    "     guess = classifier.classify(gender_features(name))\n",
    "     if guess != tag:\n",
    "         errors.append( (tag, guess, name) )"
   ]
  },
  {
   "cell_type": "code",
   "execution_count": 89,
   "metadata": {
    "collapsed": false
   },
   "outputs": [
    {
     "name": "stdout",
     "output_type": "stream",
     "text": [
      "correct=female   guess=male     name=Adelind                       \n",
      "correct=female   guess=male     name=Adrian                        \n",
      "correct=female   guess=male     name=Agnes                         \n",
      "correct=female   guess=male     name=Allys                         \n",
      "correct=female   guess=male     name=Allyson                       \n",
      "correct=female   guess=male     name=Annabell                      \n",
      "correct=female   guess=male     name=Avis                          \n",
      "correct=female   guess=male     name=Beryl                         \n",
      "correct=female   guess=male     name=Bird                          \n",
      "correct=female   guess=male     name=Bridget                       \n",
      "correct=female   guess=male     name=Carol-Jean                    \n",
      "correct=female   guess=male     name=Cathyleen                     \n",
      "correct=female   guess=male     name=Chad                          \n",
      "correct=female   guess=male     name=Chandal                       \n",
      "correct=female   guess=male     name=Charil                        \n",
      "correct=female   guess=male     name=Charlean                      \n",
      "correct=female   guess=male     name=Charmian                      \n",
      "correct=female   guess=male     name=Consuelo                      \n",
      "correct=female   guess=male     name=Cristen                       \n",
      "correct=female   guess=male     name=Cybal                         \n",
      "correct=female   guess=male     name=Dareen                        \n",
      "correct=female   guess=male     name=Debor                         \n",
      "correct=female   guess=male     name=Doloritas                     \n",
      "correct=female   guess=male     name=Doralin                       \n",
      "correct=female   guess=male     name=Doralyn                       \n",
      "correct=female   guess=male     name=Doralynn                      \n",
      "correct=female   guess=male     name=Easter                        \n",
      "correct=female   guess=male     name=Eden                          \n",
      "correct=female   guess=male     name=Elizabet                      \n",
      "correct=female   guess=male     name=Elyn                          \n",
      "correct=female   guess=male     name=Eran                          \n",
      "correct=female   guess=male     name=Estel                         \n",
      "correct=female   guess=male     name=Ethel                         \n",
      "correct=female   guess=male     name=Ethyl                         \n",
      "correct=female   guess=male     name=Fallon                        \n",
      "correct=female   guess=male     name=Fleur                         \n",
      "correct=female   guess=male     name=Gabriel                       \n",
      "correct=female   guess=male     name=Garnet                        \n",
      "correct=female   guess=male     name=Gert                          \n",
      "correct=female   guess=male     name=Gillan                        \n",
      "correct=female   guess=male     name=Gilligan                      \n",
      "correct=female   guess=male     name=Gladys                        \n",
      "correct=female   guess=male     name=Gwen                          \n",
      "correct=female   guess=male     name=Harriot                       \n",
      "correct=female   guess=male     name=Harriott                      \n",
      "correct=female   guess=male     name=Helen                         \n",
      "correct=female   guess=male     name=Helyn                         \n",
      "correct=female   guess=male     name=Jackelyn                      \n",
      "correct=female   guess=male     name=Jasmin                        \n",
      "correct=female   guess=male     name=Jazmin                        \n",
      "correct=female   guess=male     name=Jenn                          \n",
      "correct=female   guess=male     name=Jessamyn                      \n",
      "correct=female   guess=male     name=Jewel                         \n",
      "correct=female   guess=male     name=Joslyn                        \n",
      "correct=female   guess=male     name=Joyann                        \n",
      "correct=female   guess=male     name=Juliet                        \n",
      "correct=female   guess=male     name=Karel                         \n",
      "correct=female   guess=male     name=Karin                         \n",
      "correct=female   guess=male     name=Kathlin                       \n",
      "correct=female   guess=male     name=Kerrill                       \n",
      "correct=female   guess=male     name=Kerrin                        \n",
      "correct=female   guess=male     name=Kerstin                       \n",
      "correct=female   guess=male     name=Kirsten                       \n",
      "correct=female   guess=male     name=Koo                           \n",
      "correct=female   guess=male     name=Kylynn                        \n",
      "correct=female   guess=male     name=Lark                          \n",
      "correct=female   guess=male     name=Laurel                        \n",
      "correct=female   guess=male     name=Leland                        \n",
      "correct=female   guess=male     name=Lib                           \n",
      "correct=female   guess=male     name=Lillian                       \n",
      "correct=female   guess=male     name=Lorilyn                       \n",
      "correct=female   guess=male     name=Lou                           \n",
      "correct=female   guess=male     name=Lynnell                       \n",
      "correct=female   guess=male     name=Mab                           \n",
      "correct=female   guess=male     name=Madelyn                       \n",
      "correct=female   guess=male     name=Maegan                        \n",
      "correct=female   guess=male     name=Magdalen                      \n",
      "correct=female   guess=male     name=Mairead                       \n",
      "correct=female   guess=male     name=Marabel                       \n",
      "correct=female   guess=male     name=Marian                        \n",
      "correct=female   guess=male     name=Marj                          \n",
      "correct=female   guess=male     name=Merl                          \n",
      "correct=female   guess=male     name=Moreen                        \n",
      "correct=female   guess=male     name=Muffin                        \n",
      "correct=female   guess=male     name=Muriel                        \n",
      "correct=female   guess=male     name=Myriam                        \n",
      "correct=female   guess=male     name=Nan                           \n",
      "correct=female   guess=male     name=Nicol                         \n",
      "correct=female   guess=male     name=Nitin                         \n",
      "correct=female   guess=male     name=Olwen                         \n",
      "correct=female   guess=male     name=Opal                          \n",
      "correct=female   guess=male     name=Pegeen                        \n",
      "correct=female   guess=male     name=Phyllys                       \n",
      "correct=female   guess=male     name=Pier                          \n",
      "correct=female   guess=male     name=Raychel                       \n",
      "correct=female   guess=male     name=Robinett                      \n",
      "correct=female   guess=male     name=Robyn                         \n",
      "correct=female   guess=male     name=Rozamond                      \n",
      "correct=female   guess=male     name=Ruthann                       \n",
      "correct=female   guess=male     name=Sal                           \n",
      "correct=female   guess=male     name=Sean                          \n",
      "correct=female   guess=male     name=Shaun                         \n",
      "correct=female   guess=male     name=Shaylynn                      \n",
      "correct=female   guess=male     name=Shirl                         \n",
      "correct=female   guess=male     name=Sibeal                        \n",
      "correct=female   guess=male     name=Storm                         \n",
      "correct=female   guess=male     name=Suzann                        \n",
      "correct=female   guess=male     name=Teriann                       \n",
      "correct=female   guess=male     name=Tess                          \n",
      "correct=female   guess=male     name=Thomasin                      \n",
      "correct=male     guess=female   name=Abby                          \n",
      "correct=male     guess=female   name=Alexei                        \n",
      "correct=male     guess=female   name=Alfie                         \n",
      "correct=male     guess=female   name=Alix                          \n",
      "correct=male     guess=female   name=Ambrosi                       \n",
      "correct=male     guess=female   name=Andrey                        \n",
      "correct=male     guess=female   name=Andri                         \n",
      "correct=male     guess=female   name=Barde                         \n",
      "correct=male     guess=female   name=Barnabe                       \n",
      "correct=male     guess=female   name=Bary                          \n",
      "correct=male     guess=female   name=Beale                         \n",
      "correct=male     guess=female   name=Berkeley                      \n",
      "correct=male     guess=female   name=Berkie                        \n",
      "correct=male     guess=female   name=Boniface                      \n",
      "correct=male     guess=female   name=Chaddie                       \n",
      "correct=male     guess=female   name=Charlie                       \n",
      "correct=male     guess=female   name=Chase                         \n",
      "correct=male     guess=female   name=Chauncey                      \n",
      "correct=male     guess=female   name=Chrisy                        \n",
      "correct=male     guess=female   name=Clemmie                       \n",
      "correct=male     guess=female   name=Cobbie                        \n",
      "correct=male     guess=female   name=Cortese                       \n",
      "correct=male     guess=female   name=Dale                          \n",
      "correct=male     guess=female   name=Dani                          \n",
      "correct=male     guess=female   name=Darth                         \n",
      "correct=male     guess=female   name=Davey                         \n",
      "correct=male     guess=female   name=Derby                         \n",
      "correct=male     guess=female   name=Dietrich                      \n",
      "correct=male     guess=female   name=Dimitri                       \n",
      "correct=male     guess=female   name=Dmitri                        \n",
      "correct=male     guess=female   name=Duffy                         \n",
      "correct=male     guess=female   name=Earle                         \n",
      "correct=male     guess=female   name=Ellsworth                     \n",
      "correct=male     guess=female   name=Elmore                        \n",
      "correct=male     guess=female   name=Emmy                          \n",
      "correct=male     guess=female   name=Erich                         \n",
      "correct=male     guess=female   name=Eugene                        \n",
      "correct=male     guess=female   name=Frankie                       \n",
      "correct=male     guess=female   name=Freddy                        \n",
      "correct=male     guess=female   name=Gary                          \n",
      "correct=male     guess=female   name=Gerome                        \n",
      "correct=male     guess=female   name=Gerry                         \n",
      "correct=male     guess=female   name=Giovanni                      \n",
      "correct=male     guess=female   name=Graehme                       \n",
      "correct=male     guess=female   name=Guthry                        \n",
      "correct=male     guess=female   name=Hadleigh                      \n",
      "correct=male     guess=female   name=Heinrich                      \n",
      "correct=male     guess=female   name=Hervey                        \n",
      "correct=male     guess=female   name=Hillery                       \n",
      "correct=male     guess=female   name=Howie                         \n",
      "correct=male     guess=female   name=Huey                          \n",
      "correct=male     guess=female   name=Humphrey                      \n",
      "correct=male     guess=female   name=Hurley                        \n",
      "correct=male     guess=female   name=Iggie                         \n",
      "correct=male     guess=female   name=Ira                           \n",
      "correct=male     guess=female   name=Isadore                       \n",
      "correct=male     guess=female   name=Jackie                        \n",
      "correct=male     guess=female   name=Jamey                         \n",
      "correct=male     guess=female   name=Jeffie                        \n",
      "correct=male     guess=female   name=Jeffry                        \n",
      "correct=male     guess=female   name=Jeramie                       \n",
      "correct=male     guess=female   name=Jerrome                       \n",
      "correct=male     guess=female   name=Jesse                         \n",
      "correct=male     guess=female   name=Jimmie                        \n",
      "correct=male     guess=female   name=Jodi                          \n",
      "correct=male     guess=female   name=Joe                           \n",
      "correct=male     guess=female   name=Joey                          \n",
      "correct=male     guess=female   name=Johnnie                       \n",
      "correct=male     guess=female   name=Johnny                        \n",
      "correct=male     guess=female   name=Jorge                         \n",
      "correct=male     guess=female   name=Kennedy                       \n",
      "correct=male     guess=female   name=Knox                          \n",
      "correct=male     guess=female   name=Lance                         \n",
      "correct=male     guess=female   name=Laurance                      \n",
      "correct=male     guess=female   name=Laurie                        \n",
      "correct=male     guess=female   name=Lefty                         \n",
      "correct=male     guess=female   name=Leigh                         \n",
      "correct=male     guess=female   name=Lindsey                       \n",
      "correct=male     guess=female   name=Lonnie                        \n",
      "correct=male     guess=female   name=Lorrie                        \n",
      "correct=male     guess=female   name=Mahesh                        \n",
      "correct=male     guess=female   name=Marlowe                       \n",
      "correct=male     guess=female   name=Marmaduke                     \n",
      "correct=male     guess=female   name=Micah                         \n",
      "correct=male     guess=female   name=Mika                          \n",
      "correct=male     guess=female   name=Mitch                         \n",
      "correct=male     guess=female   name=Morty                         \n",
      "correct=male     guess=female   name=Niki                          \n",
      "correct=male     guess=female   name=Nikolai                       \n",
      "correct=male     guess=female   name=Olle                          \n",
      "correct=male     guess=female   name=Partha                        \n",
      "correct=male     guess=female   name=Patsy                         \n",
      "correct=male     guess=female   name=Pearce                        \n",
      "correct=male     guess=female   name=Perry                         \n",
      "correct=male     guess=female   name=Petey                         \n",
      "correct=male     guess=female   name=Phillipe                      \n",
      "correct=male     guess=female   name=Pierce                        \n",
      "correct=male     guess=female   name=Quigly                        \n",
      "correct=male     guess=female   name=Quincy                        \n",
      "correct=male     guess=female   name=Rabbi                         \n",
      "correct=male     guess=female   name=Rabi                          \n",
      "correct=male     guess=female   name=Rafe                          \n",
      "correct=male     guess=female   name=Ramsay                        \n",
      "correct=male     guess=female   name=Randie                        \n",
      "correct=male     guess=female   name=Randy                         \n",
      "correct=male     guess=female   name=Rene                          \n",
      "correct=male     guess=female   name=Richy                         \n",
      "correct=male     guess=female   name=Ricki                         \n",
      "correct=male     guess=female   name=Ritchie                       \n",
      "correct=male     guess=female   name=Roice                         \n",
      "correct=male     guess=female   name=Rolph                         \n",
      "correct=male     guess=female   name=Ruby                          \n",
      "correct=male     guess=female   name=Rufe                          \n",
      "correct=male     guess=female   name=Sandy                         \n",
      "correct=male     guess=female   name=Shay                          \n",
      "correct=male     guess=female   name=Shayne                        \n",
      "correct=male     guess=female   name=Sinclare                      \n",
      "correct=male     guess=female   name=Skye                          \n",
      "correct=male     guess=female   name=Sparky                        \n",
      "correct=male     guess=female   name=Stearne                       \n",
      "correct=male     guess=female   name=Stinky                        \n",
      "correct=male     guess=female   name=Thornie                       \n",
      "correct=male     guess=female   name=Towny                         \n",
      "correct=male     guess=female   name=Tre                           \n",
      "correct=male     guess=female   name=Tuckie                        \n",
      "correct=male     guess=female   name=Tucky                         \n",
      "correct=male     guess=female   name=Verne                         \n",
      "correct=male     guess=female   name=Wallache                      \n",
      "correct=male     guess=female   name=Waverley                      \n",
      "correct=male     guess=female   name=Welbie                        \n",
      "correct=male     guess=female   name=Westley                       \n",
      "correct=male     guess=female   name=Wylie                         \n",
      "correct=male     guess=female   name=Yale                          \n",
      "correct=male     guess=female   name=Zackariah                     \n",
      "correct=male     guess=female   name=Zebedee                       \n"
     ]
    }
   ],
   "source": [
    "for (tag, guess, name) in sorted(errors):\n",
    "     print('correct={:<8} guess={:<8s} name={:<30}'.format(tag, guess, name))"
   ]
  },
  {
   "cell_type": "code",
   "execution_count": 90,
   "metadata": {
    "collapsed": true
   },
   "outputs": [],
   "source": [
    "def gender_features(word):\n",
    "     return {'suffix1': word[-1:],\n",
    "             'suffix2': word[-2:]}"
   ]
  },
  {
   "cell_type": "code",
   "execution_count": 91,
   "metadata": {
    "collapsed": false
   },
   "outputs": [
    {
     "name": "stdout",
     "output_type": "stream",
     "text": [
      "0.79\n"
     ]
    }
   ],
   "source": [
    "train_set = [(gender_features(n), gender) for (n, gender) in train_names]\n",
    "devtest_set = [(gender_features(n), gender) for (n, gender) in devtest_names]\n",
    "classifier = nltk.NaiveBayesClassifier.train(train_set)\n",
    "print(nltk.classify.accuracy(classifier, devtest_set))"
   ]
  },
  {
   "cell_type": "code",
   "execution_count": 92,
   "metadata": {
    "collapsed": true
   },
   "outputs": [],
   "source": [
    "from nltk.corpus import movie_reviews\n",
    "documents = [(list(movie_reviews.words(fileid)), category)\n",
    "              for category in movie_reviews.categories()\n",
    "              for fileid in movie_reviews.fileids(category)]\n",
    "random.shuffle(documents)"
   ]
  },
  {
   "cell_type": "code",
   "execution_count": 93,
   "metadata": {
    "collapsed": true
   },
   "outputs": [],
   "source": [
    "all_words = nltk.FreqDist(w.lower() for w in movie_reviews.words())\n",
    "word_features = list(all_words)[:2000]\n",
    "\n",
    "def document_features(document):\n",
    "    document_words = set(document)\n",
    "    features = {}\n",
    "    for word in word_features:\n",
    "        features['contains({})'.format(word)] = (word in document_words)\n",
    "    return features"
   ]
  },
  {
   "cell_type": "code",
   "execution_count": 94,
   "metadata": {
    "collapsed": false
   },
   "outputs": [
    {
     "name": "stdout",
     "output_type": "stream",
     "text": [
      "{'contains(corporate)': False, 'contains(barred)': False, 'contains(batmans)': False, 'contains(menacing)': False, 'contains(rags)': False, 'contains(compton)': False, 'contains(inquires)': False, 'contains(nosebleeding)': False, 'contains(playhouse)': False, 'contains(peculiarities)': False, 'contains(guarded)': False, 'contains(kilgore)': False, 'contains(tarnish)': False, 'contains(sand)': False, 'contains(busting)': False, 'contains(wedge)': False, 'contains(smelling)': False, 'contains(tulip)': False, 'contains(singled)': False, 'contains(wahlberg)': False, 'contains(needed)': False, 'contains(lydia)': False, 'contains(rick)': False, 'contains(cambodia)': False, 'contains(grandma)': False, 'contains(jovivich)': False, 'contains(pinon)': False, 'contains(fix)': False, 'contains(marla)': False, 'contains(resources)': False, 'contains(nomi)': False, 'contains(irs)': False, 'contains(mason)': False, 'contains(vicariously)': False, 'contains(ingrained)': False, 'contains(skepticism)': False, 'contains(tested)': False, 'contains(spat)': False, 'contains(nfeatured)': False, 'contains(accomplishes)': False, 'contains(sierra)': False, 'contains(lunges)': False, 'contains(telefixated)': False, 'contains(wednesday)': False, 'contains(spiders)': False, 'contains(waft)': False, 'contains(jim)': False, 'contains(cinematic)': False, 'contains(pseudonymous)': False, 'contains(troubles)': False, 'contains(dimension)': False, 'contains(cassette)': False, 'contains(corsucant)': False, 'contains(absolute)': False, 'contains(harmonious)': False, 'contains(saying)': False, 'contains(misdemeanors)': False, 'contains(prodigious)': False, 'contains(reclining)': False, 'contains(loudness)': False, 'contains(lombard)': False, 'contains(sickening)': False, 'contains(cooking)': False, 'contains(oprah)': False, 'contains(platt)': False, 'contains(rolf)': False, 'contains(episodes)': False, 'contains(derivative)': False, 'contains(receipt)': False, 'contains(impactful)': False, 'contains(fonzie)': False, 'contains(spilling)': False, 'contains(chyron)': False, 'contains(dragonflies)': False, 'contains(ugliness)': False, 'contains(sauce)': False, 'contains(crossroads)': False, 'contains(paired)': False, 'contains(tomei)': False, 'contains(hounds)': False, 'contains(marshmallows)': False, 'contains(lick)': False, 'contains(hass)': False, 'contains(surges)': False, 'contains(watched)': False, 'contains(ivey)': False, 'contains(nuez)': False, 'contains(mentors)': False, 'contains(tricky)': False, 'contains(surveying)': False, 'contains(ditching)': False, 'contains(haystack)': False, 'contains(warriors)': False, 'contains(purged)': False, 'contains(rehabilitation)': False, 'contains(petitions)': False, 'contains(bogs)': False, 'contains(absense)': False, 'contains(courtesans)': False, 'contains(followed)': False, 'contains(har)': False, 'contains(anthesis)': False, 'contains(grotesqe)': False, 'contains(_i_know_what_you_did_last_summer_)': False, 'contains(survey)': False, 'contains(bartok)': False, 'contains(thivisol)': False, 'contains(exponential)': False, 'contains(birdie)': False, 'contains(cincinnati)': False, 'contains(unthrilling)': False, 'contains(balsan)': False, 'contains(bumming)': False, 'contains(celebrated)': False, 'contains(renovated)': False, 'contains(crowd)': False, 'contains(shows)': False, 'contains(lana)': False, 'contains(haskin)': False, 'contains(despite)': False, 'contains(scharzenegger)': False, 'contains(undergone)': False, 'contains(aissa)': False, 'contains(leit)': False, 'contains(mouth)': False, 'contains(demeaning)': False, 'contains(drilling)': False, 'contains(unsworth)': False, 'contains(bannister)': False, 'contains(wiseguy)': False, 'contains(lackies)': False, 'contains(norville)': False, 'contains(dampens)': False, 'contains(satisfactory)': False, 'contains(abuser)': False, 'contains(had)': False, 'contains(nature)': False, 'contains(awake)': False, 'contains(wiseguys)': False, 'contains(cerebrally)': False, 'contains(ballisitic)': False, 'contains(trauma)': False, 'contains(geography)': False, 'contains(genieveve)': False, 'contains(leeanne)': False, 'contains(cannibal)': False, 'contains(intoxicating)': False, 'contains(olds)': False, 'contains(tastefully)': False, 'contains(defy)': False, 'contains(drafted)': False, 'contains(strums)': False, 'contains(dilemnas)': False, 'contains(amoeba)': False, 'contains(assimilation)': False, 'contains(reprisal)': False, 'contains(janusz)': False, 'contains(leonardi)': False, 'contains(procures)': False, 'contains(canoeing)': False, 'contains(emergence)': False, 'contains(diving)': False, 'contains(aatish)': False, 'contains(masturbatory)': False, 'contains(peaceably)': False, 'contains(persistently)': False, 'contains(survival)': False, 'contains(portrays)': False, 'contains(ceasing)': False, 'contains(bubble)': False, 'contains(sonja)': False, 'contains(unarguably)': False, 'contains(unbuttoning)': False, 'contains(jessalyn)': False, 'contains(windmill)': False, 'contains(longs)': False, 'contains(baby)': False, 'contains(mute)': False, 'contains(sikh)': False, 'contains(nicely)': False, 'contains(burial)': False, 'contains(formed)': False, 'contains(locket)': False, 'contains(frizzy)': False, 'contains(darnell)': False, 'contains(outraging)': False, 'contains(politicos)': False, 'contains(2293)': False, 'contains(devoured)': False, 'contains(universality)': False, 'contains(didn)': False, 'contains(perpetrator)': False, 'contains(thats)': False, 'contains(dethroned)': False, 'contains(malintentioned)': False, 'contains(insubordinate)': False, 'contains(humpback)': False, 'contains(meditative)': False, 'contains(pimply)': False, 'contains(tyranny)': False, 'contains(loyalties)': False, 'contains(humbler)': False, 'contains(kindergartner)': False, 'contains(suitcases)': False, 'contains(grope)': False, 'contains(touts)': False, 'contains(advertisement)': False, 'contains(shirts)': False, 'contains(videodrome)': False, 'contains(eggar)': False, 'contains(portillo)': False, 'contains(macht)': False, 'contains(perishes)': False, 'contains(preference)': False, 'contains(pell)': False, 'contains(moniker)': False, 'contains(fakery)': False, 'contains(edouard)': False, 'contains(aughra)': False, 'contains(foregrounds)': False, 'contains(snobbish)': False, 'contains(printed)': False, 'contains(dispite)': False, 'contains(pulled)': False, 'contains(russ)': False, 'contains(admires)': False, 'contains(hurricaine)': False, 'contains(milked)': False, 'contains(master)': False, 'contains(spurting)': False, 'contains(oversimplified)': False, 'contains(overlord)': False, 'contains(goody)': False, 'contains(has)': True, 'contains(pringles)': False, 'contains(celebrates)': False, 'contains(domed)': False, 'contains(wrinkles)': False, 'contains(abandons)': False, 'contains(solaris)': False, 'contains(clumsiness)': False, 'contains(deductions)': False, 'contains(sugarplums)': False, 'contains(lombardo)': False, 'contains(humbled)': False, 'contains(beware)': False, 'contains(antichrist)': False, 'contains(cavity)': False, 'contains(anthropologists)': False, 'contains(typicalness)': False, 'contains(crowe)': False, 'contains(scramble)': False, 'contains(stoically)': False, 'contains(tanker)': False, 'contains(thanking)': False, 'contains(brunette)': False, 'contains(retells)': False, 'contains(rudnick)': False, 'contains(sidebars)': False, 'contains(interviewed)': False, 'contains(greenwald)': False, 'contains(brutally)': False, 'contains(misconstrued)': False, 'contains(piscapo)': False, 'contains(vocalized)': False, 'contains(negg)': False, 'contains(benigness)': False, 'contains(cigarettes)': False, 'contains(want)': False, 'contains(huge)': False, 'contains(mediocrity)': False, 'contains(opar)': False, 'contains(abortion)': False, 'contains(chap)': False, 'contains(paled)': False, 'contains(distraction)': False, 'contains(hypsy)': False, 'contains(elders)': False, 'contains(compass)': False, 'contains(circuitry)': False, 'contains(rebuilding)': False, 'contains(hat)': False, 'contains(marshall)': False, 'contains(professory)': False, 'contains(dismisses)': False, 'contains(oderkerk)': False, 'contains(bunker)': False, 'contains(spit)': False, 'contains(abject)': False, 'contains(s)': True, 'contains(underdone)': False, 'contains(starring)': False, 'contains(dared)': False, 'contains(antidote)': False, 'contains(igniting)': False, 'contains(touchy)': False, 'contains(doubts)': False, 'contains(erich)': False, 'contains(trails)': False, 'contains(socking)': False, 'contains(surfing)': False, 'contains(promotional)': False, 'contains(sponsorship)': False, 'contains(circumstances)': False, 'contains(zoe)': False, 'contains(process)': False, 'contains(sponsor)': False, 'contains(mortified)': False, 'contains(snickered)': False, 'contains(minah)': False, 'contains(soaked)': False, 'contains(entering)': False, 'contains(cheddar)': False, 'contains(soundbite)': False, 'contains(recombination)': False, 'contains(zigged)': False, 'contains(sublimated)': False, 'contains(niall)': False, 'contains(sixteen)': False, 'contains(harassing)': False, 'contains(loitered)': False, 'contains(dna)': False, 'contains(noblewoman)': False, 'contains(interogation)': False, 'contains(locusts)': False, 'contains(skirmish)': False, 'contains(unintentionally)': False, 'contains(bounce)': False, 'contains(rebounding)': False, 'contains(flipped)': False, 'contains(mori)': False, 'contains(cages)': False, 'contains(atlantis)': False, 'contains(sustaining)': False, 'contains(straighten)': False, 'contains(otto)': False, 'contains(flotsam)': False, 'contains(centuries)': False, 'contains(promiss)': False, 'contains(maude)': False, 'contains(hawkes)': False, 'contains(scott)': False, 'contains(edged)': False, 'contains(wrong)': True, 'contains(frenchmen)': False, 'contains(dilbert)': False, 'contains(indicative)': False, 'contains(bruckheimer)': False, 'contains(porpoise)': False, 'contains(uncharacteristically)': False, 'contains(ellen)': False, 'contains(stifle)': False, 'contains(stormare)': False, 'contains(wracked)': False, 'contains(encourage)': False, 'contains(wits)': False, 'contains(bios)': False, 'contains(fry)': False, 'contains(resonated)': False, 'contains(lyndon)': False, 'contains(stylings)': False, 'contains(rangers)': False, 'contains(marlo)': False, 'contains(stillness)': False, 'contains(arlington)': False, 'contains(scold)': False, 'contains(belt)': False, 'contains(mcferran)': False, 'contains(ching)': False, 'contains(stern)': False, 'contains(crackles)': False, 'contains(antwerp)': False, 'contains(remembrance)': False, 'contains(expressively)': False, 'contains(byline)': False, 'contains(admirer)': False, 'contains(squirt)': False, 'contains(saucy)': False, 'contains(clients)': False, 'contains(mirrors)': False, 'contains(gloating)': False, 'contains(herzfeld)': False, 'contains(inconsistent)': False, 'contains(untouched)': False, 'contains(whizzing)': False, 'contains(traumatizes)': False, 'contains(bouyant)': False, 'contains(initiated)': False, 'contains(yogi)': False, 'contains(wales)': False, 'contains(disintegrated)': False, 'contains(spotty)': False, 'contains(fisherman)': False, 'contains(greatness)': False, 'contains(neary)': False, 'contains(boiler)': False, 'contains(westlake)': False, 'contains(allan)': False, 'contains(organisations)': False, 'contains(premier)': False, 'contains(apace)': False, 'contains(matilda)': False, 'contains(belloq)': False, 'contains(glenne)': False, 'contains(nothin)': False, 'contains(implicit)': False, 'contains(macgowan)': False, 'contains(faded)': False, 'contains(ryan_)': False, 'contains(terrifyingly)': False, 'contains(awaiting)': False, 'contains(onofrio)': False, 'contains(goodman)': False, 'contains(caitlyn)': False, 'contains(virus)': False, 'contains(adroit)': False, 'contains(prostration)': False, 'contains(resorts)': False, 'contains(yugoslavians)': False, 'contains(signs)': False, 'contains(formulates)': False, 'contains(squabble)': False, 'contains(much)': False, 'contains(screaming)': False, 'contains(methods)': False, 'contains(despises)': False, 'contains(bogg)': False, 'contains(ony)': False, 'contains(excising)': False, 'contains(dahlings)': False, 'contains(makes)': False, 'contains(sympathize)': False, 'contains(stoicism)': False, 'contains(isaac)': False, 'contains(juergen)': False, 'contains(bolstered)': False, 'contains(blonde)': False, 'contains(aggressivelly)': False, 'contains(fruity)': False, 'contains(mutilated)': False, 'contains(mensch)': False, 'contains(behave)': False, 'contains(red)': False, 'contains(palladino)': False, 'contains(welcomes)': False, 'contains(seaman)': False, 'contains(couple)': False, 'contains(excitable)': False, 'contains(charges)': False, 'contains(rich)': False, 'contains(broader)': False, 'contains(shapely)': False, 'contains(betraying)': False, 'contains(gladys)': False, 'contains(wives)': False, 'contains(detectives)': False, 'contains(cobblers)': False, 'contains(unrecognizable)': False, 'contains(colonists)': False, 'contains(mintues)': False, 'contains(mystic)': False, 'contains(sportsmanship)': False, 'contains(benson)': False, 'contains(parachute)': False, 'contains(millieu)': False, 'contains(defensively)': False, 'contains(being)': False, 'contains(seminal)': False, 'contains(music)': False, 'contains(pull)': False, 'contains(90210)': False, 'contains(cloris)': False, 'contains(traumatised)': False, 'contains(diapers)': False, 'contains(replied)': False, 'contains(wachowskis)': False, 'contains(speedboat)': False, 'contains(krippendorf)': False, 'contains(hercules)': False, 'contains(meteorologist)': False, 'contains(bogglingly)': False, 'contains(smiling)': False, 'contains(pinto)': False, 'contains(bursting)': False, 'contains(modestly)': False, 'contains(climber)': False, 'contains(dodie)': False, 'contains(retell)': False, 'contains(wage)': False, 'contains(sela)': False, 'contains(henpecked)': False, 'contains(complications)': False, 'contains(pretzel)': False, 'contains(stifled)': False, 'contains(trys)': False, 'contains(reopens)': False, 'contains(babe)': False, 'contains(discerning)': False, 'contains(headset)': False, 'contains(stoker)': False, 'contains(doom)': False, 'contains(snuggles)': False, 'contains(cessation)': False, 'contains(abbreviated)': False, 'contains(enjoys)': False, 'contains(ideally)': False, 'contains(raped)': False, 'contains(_seven_nights_)': False, 'contains(haviland)': False, 'contains(confrontatory)': False, 'contains(charnel)': False, 'contains(pasadena)': False, 'contains(portentuous)': False, 'contains(titanium)': False, 'contains(abnormally)': False, 'contains(unwelcomed)': False, 'contains(procreate)': False, 'contains(keeble)': False, 'contains(sumptuous)': False, 'contains(conscious)': False, 'contains(regressive)': False, 'contains(embark)': False, 'contains(expound)': False, 'contains(wacked)': False, 'contains(engages)': False, 'contains(touchstone)': False, 'contains(amarcord)': False, 'contains(tsui)': False, 'contains(petrice)': False, 'contains(numeric)': False, 'contains(hotcakes)': False, 'contains(chlorine)': False, 'contains(locked)': False, 'contains(tremble)': False, 'contains(featherbrained)': False, 'contains(conceptually)': False, 'contains(genesis)': False, 'contains(meddled)': False, 'contains(awkwardness)': False, 'contains(friggin)': False, 'contains(mutinies)': False, 'contains(stoked)': False, 'contains(copious)': False, 'contains(revelatory)': False, 'contains(cronenberg)': False, 'contains(absorbs)': False, 'contains(rhythmless)': False, 'contains(burley)': False, 'contains(whoever)': False, 'contains(mosques)': False, 'contains(hag)': False, 'contains(bianca)': False, 'contains(anonymously)': False, 'contains(prior)': False, 'contains(procreating)': False, 'contains(carelessly)': False, 'contains(chad)': False, 'contains(forwarned)': False, 'contains(maker)': False, 'contains(fin)': False, 'contains(bulow)': False, 'contains(informants)': False, 'contains(nora)': False, 'contains(ballet)': False, 'contains(chomped)': False, 'contains(sommers)': False, 'contains(spacemusic)': False, 'contains(bastad)': False, 'contains(rabal)': False, 'contains(golden)': False, 'contains(whoaaaaaa)': False, 'contains(toning)': False, 'contains(overturned)': False, 'contains(handcuffs)': False, 'contains(nonsensical)': False, 'contains(preservation)': False, 'contains(eyelids)': False, 'contains(considerably)': False, 'contains(rioters)': False, 'contains(pressed)': False, 'contains(tightened)': False, 'contains(extent)': False, 'contains(wandering)': False, 'contains(dozen)': False, 'contains(remastered)': False, 'contains(deserves)': False, 'contains(beowolf)': False, 'contains(warfield)': False, 'contains(audaciously)': False, 'contains(majorino)': False, 'contains(featherweight)': False, 'contains(superiority)': False, 'contains(portents)': False, 'contains(harvests)': False, 'contains(colleague)': False, 'contains(fewer)': False, 'contains(turned)': False, 'contains(wunderkind)': False, 'contains(opportunists)': False, 'contains(goggins)': False, 'contains(zellwegger)': False, 'contains(middleton)': False, 'contains(atlantic)': False, 'contains(pimp)': False, 'contains(grounded)': False, 'contains(doreen)': False, 'contains(caan)': False, 'contains(unknowns)': False, 'contains(seldes)': False, 'contains(spine)': False, 'contains(measurements)': False, 'contains(stifler)': False, 'contains(heebie)': False, 'contains(turner)': False, 'contains(complicates)': False, 'contains(absurdities)': False, 'contains(unredeemable)': False, 'contains(navigators)': False, 'contains(rice)': False, 'contains(graffiti)': False, 'contains(oxymoron)': False, 'contains(sweaty)': False, 'contains(smashed)': False, 'contains(sorted)': False, 'contains(joely)': False, 'contains(phallus)': False, 'contains(roll)': False, 'contains(damnit)': False, 'contains(fugitives)': False, 'contains(shootout)': False, 'contains(saddened)': False, 'contains(span)': False, 'contains(condolences)': False, 'contains(koppelman)': False, 'contains(gardenia)': False, 'contains(locklear)': False, 'contains(cheekbones)': False, 'contains(horndog)': False, 'contains(topping)': False, 'contains(simplistic)': False, 'contains(foregin)': False, 'contains(muth)': False, 'contains(bamboo)': False, 'contains(leary)': False, 'contains(18th)': False, 'contains(gisbourne)': False, 'contains(oingo)': False, 'contains(natured)': False, 'contains(mistic)': False, 'contains(disaster_)': False, 'contains(ugc)': False, 'contains(spins)': False, 'contains(euphegenia)': False, 'contains(overpopulated)': False, 'contains(mba)': False, 'contains(more)': False, 'contains(lanky)': False, 'contains(oldies)': False, 'contains(_titus_andronicus_)': False, 'contains(thora)': False, 'contains(rooker)': False, 'contains(copulate)': False, 'contains(islamic)': False, 'contains(sympathetically)': False, 'contains(dolph)': False, 'contains(dynamics)': False, 'contains(convincingly)': False, 'contains(bedridden)': False, 'contains(woody)': False, 'contains(sunny)': False, 'contains(combatants)': False, 'contains(scenic)': False, 'contains(cannibals)': False, 'contains(allah)': False, 'contains(capoeira)': False, 'contains(petey)': False, 'contains(codename)': False, 'contains(goregeous)': False, 'contains(beloved)': False, 'contains(hav)': False, 'contains(macho)': False, 'contains(chins)': False, 'contains(goddamn)': False, 'contains(desiring)': False, 'contains(watcher)': False, 'contains(congratulations)': False, 'contains(velda)': False, 'contains(stylistics)': False, 'contains(crowbar)': False, 'contains(ahern)': False, 'contains(pyroclastic)': False, 'contains(incongruent)': False, 'contains(isacsson)': False, 'contains(shocks)': False, 'contains(hideaway)': False, 'contains(alexandre)': False, 'contains(chirping)': False, 'contains(gunshot)': False, 'contains(nervousness)': False, 'contains(retroactive)': False, 'contains(nighthawks)': False, 'contains(cranked)': False, 'contains(disasters)': False, 'contains(quaint)': False, 'contains(wrinkled)': False, 'contains(frontgate)': False, 'contains(shadow)': False, 'contains(onw)': False, 'contains(binges)': False, 'contains(unjust)': False, 'contains(meantime)': False, 'contains(scorces)': False, 'contains(mirabella)': False, 'contains(charmed)': False, 'contains(stays)': False, 'contains(disgrace)': False, 'contains(yakov)': False, 'contains(therefore)': False, 'contains(grapples)': False, 'contains(painkiller)': False, 'contains(waning)': False, 'contains(recycles)': False, 'contains(symmetry)': False, 'contains(wants)': False, 'contains(f)': False, 'contains(melinda)': False, 'contains(magma)': False, 'contains(falstaff)': False, 'contains(battleships)': False, 'contains(shenanigans)': False, 'contains(locations)': False, 'contains(dumbest)': False, 'contains(diggler)': False, 'contains(dismantling)': False, 'contains(canran)': False, 'contains(ahmet)': False, 'contains(prizes)': False, 'contains(longo)': False, 'contains(overcooked)': False, 'contains(stereotypical)': False, 'contains(vivien)': False, 'contains(negativity)': False, 'contains(impacted)': False, 'contains(snugly)': False, 'contains(collides)': False, 'contains(stipulate)': False, 'contains(stifles)': False, 'contains(originally)': False, 'contains(upstate)': False, 'contains(gigolo)': False, 'contains(delectably)': False, 'contains(unjustifyably)': False, 'contains(pivot)': False, 'contains(spewing)': False, 'contains(former)': False, 'contains(fedoras)': False, 'contains(devito)': False, 'contains(telescope)': False, 'contains(collectively)': False, 'contains(savini)': False, 'contains(periodic)': False, 'contains(skewer)': False, 'contains(disasterous)': False, 'contains(enthrall)': False, 'contains(displays)': False, 'contains(carrion)': False, 'contains(weirdoes)': False, 'contains(buliwyf)': False, 'contains(palms)': False, 'contains(omaha)': False, 'contains(beesley)': False, 'contains(spyglass)': False, 'contains(spam)': False, 'contains(dyer)': False, 'contains(feeling)': False, 'contains(======)': False, 'contains(fueled)': False, 'contains(aussies)': False, 'contains(tenacious)': False, 'contains(restraints)': False, 'contains(doos)': False, 'contains(modest)': False, 'contains(chu)': False, 'contains(guitry)': False, 'contains(boarded)': False, 'contains(fistfights)': False, 'contains(trekkie)': False, 'contains(gripe)': False, 'contains(universally)': False, 'contains(lingering)': False, 'contains(breakfast)': False, 'contains(societal)': False, 'contains(courses)': False, 'contains(outburst)': False, 'contains(hatchette)': False, 'contains(obscured)': False, 'contains(floated)': False, 'contains(limburgher)': False, 'contains(gorman)': False, 'contains(pissant)': False, 'contains(mussenden)': False, 'contains(underlining)': False, 'contains(duet)': False, 'contains(estimate)': False, 'contains(testaments)': False, 'contains(francesca)': False, 'contains(lameness)': False, 'contains(bliss)': False, 'contains(slothful)': False, 'contains(bazooms)': False, 'contains(smirk)': False, 'contains(haw)': False, 'contains(glowers)': False, 'contains(learn)': False, 'contains(playfulness)': False, 'contains(hackwork)': False, 'contains(distractedness)': False, 'contains(perturbed)': False, 'contains(aboard)': False, 'contains(enliven)': False, 'contains(briesewitz)': False, 'contains(exasperating)': False, 'contains(ambiguities)': False, 'contains(waitering)': False, 'contains(israel)': False, 'contains(insane)': False, 'contains(kfc)': False, 'contains(spin)': False, 'contains(tracking)': False, 'contains(massironi)': False, 'contains(directs)': False, 'contains(limitless)': False, 'contains(slaver)': False, 'contains(chrissy)': False, 'contains(lang)': False, 'contains(droning)': False, 'contains(deserved)': False, 'contains(bozo)': False, 'contains(apropos)': False, 'contains(subplots)': False, 'contains(parlay)': False, 'contains(hai)': False, 'contains(healed)': False, 'contains(collided)': False, 'contains(expanded)': False, 'contains(academic)': False, 'contains(chaz)': False, 'contains(pridefully)': False, 'contains(twisting)': False, 'contains(whacking)': False, 'contains(francesco)': False, 'contains(turkish)': False, 'contains(extend)': False, 'contains(sock)': False, 'contains(kriss)': False, 'contains(tolan)': False, 'contains(concentrates)': False, 'contains(friend)': False, 'contains(small)': False, 'contains(landslide)': False, 'contains(himalayas)': False, 'contains(clarkson)': False, 'contains(delicately)': False, 'contains(punishable)': False, 'contains(chow)': False, 'contains(simplify)': False, 'contains(romper)': False, 'contains(rickman)': False, 'contains(shipments)': False, 'contains(inanimate)': False, 'contains(gershon)': False, 'contains(unsubstantial)': False, 'contains(neophytes)': False, 'contains(unsinkable)': False, 'contains(bohemians)': False, 'contains(surname)': False, 'contains(noteables)': False, 'contains(pooper)': False, 'contains(boozed)': False, 'contains(villiany)': False, 'contains(cuisine)': False, 'contains(arkin)': False, 'contains(wires)': False, 'contains(barrel)': False, 'contains(coaxed)': False, 'contains(duper)': False, 'contains(nordoff)': False, 'contains(aboslutely)': False, 'contains(jonnie)': False, 'contains(flipper)': False, 'contains(issac)': False, 'contains(uplifting)': False, 'contains(satire)': False, 'contains(mesmerize)': False, 'contains(norm)': False, 'contains(sects)': False, 'contains(decapitation)': False, 'contains(weendigo)': False, 'contains(union)': False, 'contains(admired)': False, 'contains(municipality)': False, 'contains(initiate)': False, 'contains(sked)': False, 'contains(freehold)': False, 'contains(butchers)': False, 'contains(conscription)': False, 'contains(tempted)': False, 'contains(engaged)': False, 'contains(soviets)': False, 'contains(milquetoast)': False, 'contains(scrubs)': False, 'contains(binding)': False, 'contains(.)': True, 'contains(ire)': False, 'contains(neurologist)': False, 'contains(address)': False, 'contains(tantalizingly)': False, 'contains(shockwave)': False, 'contains(dickinson)': False, 'contains(tightrope)': False, 'contains(transported)': False, 'contains(symbolise)': False, 'contains(plucked)': False, 'contains(assuring)': False, 'contains(investment)': False, 'contains(tricks)': False, 'contains(r2)': False, 'contains(phelps)': False, 'contains(door)': False, 'contains(ghostbusters)': False, 'contains(emmylou)': False, 'contains(houseman)': False, 'contains(proprietor)': False, 'contains(shandling)': False, 'contains(masturbates)': False, 'contains(sonorra)': False, 'contains(obliges)': False, 'contains(bicentennial)': False, 'contains(faulkner)': False, 'contains(minnie)': False, 'contains(ambling)': False, 'contains(mythos)': False, 'contains(courageously)': False, 'contains(marquee)': False, 'contains(storyboarded)': False, 'contains(hairdresser)': False, 'contains(following)': False, 'contains(guamo)': False, 'contains(horsing)': False, 'contains(sedition)': False, 'contains(redirection)': False, 'contains(roots)': False, 'contains(painstakingly)': False, 'contains(contrastingly)': False, 'contains(dues)': False, 'contains(huddled)': False, 'contains(disengaging)': False, 'contains(disgraced)': False, 'contains(crater)': False, 'contains(fabric)': False, 'contains(zippers)': False, 'contains(attenuated)': False, 'contains(cultivating)': False, 'contains(gown)': False, 'contains(positively)': False, 'contains(singed)': False, 'contains(twotg)': False, 'contains(disturbed)': False, 'contains(liebes)': False, 'contains(peppy)': False, 'contains(vexing)': False, 'contains(holdover)': False, 'contains(singer)': False, 'contains(shawn)': False, 'contains(sprinkle)': False, 'contains(consoles)': False, 'contains(sensitively)': False, 'contains(midget)': False, 'contains(land)': False, 'contains(katie)': False, 'contains(jitters)': False, 'contains(corrects)': False, 'contains(magyuver)': False, 'contains(indiscretion)': False, 'contains(locks)': False, 'contains(integrating)': False, 'contains(loco)': False, 'contains(ratttz)': False, 'contains(flyboy)': False, 'contains(hessian)': False, 'contains(budget)': False, 'contains(turvy)': False, 'contains(occurs)': False, 'contains(kroon)': False, 'contains(customer)': False, 'contains(hugh)': False, 'contains(ayla)': False, 'contains(crowdpleasing)': False, 'contains(embrassment)': False, 'contains(hockley)': False, 'contains(jovovich)': False, 'contains(malfunctions)': False, 'contains(jiang)': False, 'contains(scoffs)': False, 'contains(filmcritic)': False, 'contains(ahmed)': False, 'contains(zappa)': False, 'contains(designing)': False, 'contains(rabbinical)': False, 'contains(kyzynski)': False, 'contains(meaner)': False, 'contains(palisades)': False, 'contains(kensington)': False, 'contains(uhhhhhm)': False, 'contains(faceted)': False, 'contains(cadence)': False, 'contains(delroy)': False, 'contains(laughton)': False, 'contains(unequipped)': False, 'contains(pales)': False, 'contains(portait)': False, 'contains(photos)': False, 'contains(bouncy)': False, 'contains(_dragon_)': False, 'contains(sensitivity)': False, 'contains(assigns)': False, 'contains(tasting)': False, 'contains(dismissed)': False, 'contains(namuth)': False, 'contains(kids)': False, 'contains(acted)': False, 'contains(materialized)': False, 'contains(concentrated)': False, 'contains(individuals)': False, 'contains(alarming)': False, 'contains(wyman)': False, 'contains(elisa)': False, 'contains(internet)': False, 'contains(pass)': False, 'contains(existential)': False, 'contains(pencil)': False, 'contains(hennings)': False, 'contains(boorman)': False, 'contains(hash)': False, 'contains(balaban)': False, 'contains(exclaimed)': False, 'contains(chat)': False, 'contains(reconstruction)': False, 'contains(rocque)': False, 'contains(sensational)': False, 'contains(morose)': False, 'contains(rewatched)': False, 'contains(quarter)': False, 'contains(maclachlan)': False, 'contains(agitation)': False, 'contains(rover)': False, 'contains(eradicate)': False, 'contains(restoring)': False, 'contains(neilsen)': False, 'contains(traumatized)': False, 'contains(bureaucrat)': False, 'contains(padded)': False, 'contains(wickedly)': False, 'contains(self)': False, 'contains(overal)': False, 'contains(frieberg)': False, 'contains(teresa)': False, 'contains(jetsons)': False, 'contains(puzzling)': False, 'contains(gloomy)': False, 'contains(jip)': False, 'contains(waving)': False, 'contains(reconciling)': False, 'contains(typhoon)': False, 'contains(professionally)': False, 'contains(magwitch)': False, 'contains(lengthen)': False, 'contains(_eve)': False, 'contains(chabert)': False, 'contains(tamahori)': False, 'contains(welcomed)': False, 'contains(crates)': False, 'contains(reap)': False, 'contains(suffice)': False, 'contains(xenophobe)': False, 'contains(controversy)': False, 'contains(caned)': False, 'contains(mishandle)': False, 'contains(hay)': False, 'contains(honk)': False, 'contains(henceforth)': False, 'contains(sojourn)': False, 'contains(amphibians)': False, 'contains(rage)': False, 'contains(funicello)': False, 'contains(buzzsaw)': False, 'contains(fornicators)': False, 'contains(naomi)': False, 'contains(sci)': False, 'contains(lane)': False, 'contains(effects)': False, 'contains(uploaded)': False, 'contains(bueller)': False, 'contains(gadget)': False, 'contains(reactions)': False, 'contains(academia)': False, 'contains(brainless)': False, 'contains(henreid)': False, 'contains(debilitating)': False, 'contains(oblige)': False, 'contains(patrolled)': False, 'contains(realisation)': False, 'contains(explosions)': False, 'contains(voicework)': False, 'contains(raucous)': False, 'contains(edges)': False, 'contains(hoyle)': False, 'contains(pumpkins)': False, 'contains(tamara)': False, 'contains(revolutionized)': False, 'contains(vegetative)': False, 'contains(k)': False, 'contains(damian)': False, 'contains(casualness)': False, 'contains(uninterrupted)': False, 'contains(amalgamation)': False, 'contains(exact)': False, 'contains(harnessed)': False, 'contains(moderately)': False, 'contains(minute)': False, 'contains(canning)': False, 'contains(continents)': False, 'contains(comically)': False, 'contains(stagecoach)': False, 'contains(harve)': False, 'contains(bummer)': False, 'contains(barren)': False, 'contains(colorized)': False, 'contains(edgecomb)': False, 'contains(rewarded)': False, 'contains(also)': True, 'contains(hormones)': False, 'contains(losin)': False, 'contains(policed)': False, 'contains(tardis)': False, 'contains(fecal)': False, 'contains(blond)': False, 'contains(detested)': False, 'contains(playback)': False, 'contains(reingold)': False, 'contains(rulebook)': False, 'contains(undeveloped)': False, 'contains(wynt)': False, 'contains(toucha)': False, 'contains(connection)': False, 'contains(matheson)': False, 'contains(civilians)': False, 'contains(scream)': True, 'contains(scalvaging)': False, 'contains(rica)': False, 'contains(brassed)': False, 'contains(troubled)': False, 'contains(altogether)': False, 'contains(oldham)': False, 'contains(dave)': False, 'contains(bacri)': False, 'contains(slurring)': False, 'contains(bakersfield)': False, 'contains(droves)': False, 'contains(carters)': False, 'contains(ineffable)': False, 'contains(beristain)': False, 'contains(spar)': False, 'contains(von)': False, 'contains(coachmen)': False, 'contains(mafioso)': False, 'contains(mora)': False, 'contains(crackled)': False, 'contains(working)': False, 'contains(plate)': False, 'contains(opposed)': False, 'contains(unrepentant)': False, 'contains(mayer)': False, 'contains(vision)': False, 'contains(clock)': False, 'contains(unveil)': False, 'contains(hickey)': False, 'contains(swanky)': False, 'contains(brazilian)': False, 'contains(rootless)': False, 'contains(turnaround)': False, 'contains(conceptions)': False, 'contains(metamorphoses)': False, 'contains(heirloom)': False, 'contains(looted)': False, 'contains(photon)': False, 'contains(climb)': False, 'contains(last)': False, 'contains(sidekicks)': False, 'contains(traffic)': False, 'contains(honeymoon)': False, 'contains(interactivity)': False, 'contains(farsical)': False, 'contains(lasso)': False, 'contains(principals)': False, 'contains(china)': True, 'contains(intrepid)': False, 'contains(maltese)': False, 'contains(choice)': False, 'contains(kuei)': False, 'contains(unwittingly)': False, 'contains(lifeline)': False, 'contains(sums)': False, 'contains(demarco)': False, 'contains(orleans)': False, 'contains(thurman)': False, 'contains(treason)': False, 'contains(woods)': False, 'contains(captive)': False, 'contains(mummified)': False, 'contains(everclear)': False, 'contains(droppingly)': False, 'contains(patriarch)': False, 'contains(portobello)': False, 'contains(ooooooo)': False, 'contains(vaporize)': False, 'contains(tahoe)': False, 'contains(dinosaurs)': False, 'contains(remaning)': False, 'contains(underbelly)': False, 'contains(one)': True, 'contains(watches)': False, 'contains(hal)': False, 'contains(megabytes)': False, 'contains(sealed)': False, 'contains(hopkins)': False, 'contains(unlikeable)': False, 'contains(remedy)': False, 'contains(thomsen)': False, 'contains(riots)': False, 'contains(everytime)': False, 'contains(affairs)': False, 'contains(tragicomic)': False, 'contains(scraped)': False, 'contains(confidence)': False, 'contains(clarified)': False, 'contains(resemblances)': False, 'contains(feuds)': False, 'contains(muck)': False, 'contains(mindless)': False, 'contains(grueling)': False, 'contains(singles)': False, 'contains(glamor)': False, 'contains(innuendos)': False, 'contains(neglect)': False, 'contains(lipstick)': False, 'contains(heartedness)': False, 'contains(portrayed)': False, 'contains(salva)': False, 'contains(damning)': False, 'contains(bandaras)': False, 'contains(beyer)': False, 'contains(squeezes)': False, 'contains(rehash)': False, 'contains(emotion)': False, 'contains(boiled)': False, 'contains(mckidd)': False, 'contains(yankovich)': False, 'contains(amuck)': False, 'contains(_escape)': False, 'contains(puppy)': False, 'contains(overboard)': False, 'contains(structuring)': False, 'contains(inquired)': False, 'contains(dangerfield)': False, 'contains(sank)': False, 'contains(heavyweight)': False, 'contains(coaxing)': False, 'contains(caruso)': False, 'contains(splashing)': False, 'contains(carping)': False, 'contains(blizzard)': False, 'contains(demolition)': False, 'contains(employ)': False, 'contains(calculation)': False, 'contains(isaak)': False, 'contains(repayment)': False, 'contains(feasibility)': False, 'contains(influx)': False, 'contains(saint)': False, 'contains(tiegs)': False, 'contains(experience)': False, 'contains(locker)': False, 'contains(preciously)': False, 'contains(pairs)': False, 'contains(espouses)': False, 'contains(childs)': False, 'contains(vicent)': False, 'contains(dusty)': False, 'contains(prancer)': False, 'contains(overthrow)': False, 'contains(retarded)': False, 'contains(mcnamara)': False, 'contains(studious)': False, 'contains(listens)': False, 'contains(emergency)': False, 'contains(split)': False, 'contains(saving)': False, 'contains(unequivocally)': False, 'contains(admire)': False, 'contains(vamires)': False, 'contains(smashes)': False, 'contains(overwhelmed)': False, 'contains(outfielders)': False, 'contains(eduard)': False, 'contains(48th)': False, 'contains(prostrate)': False, 'contains(haplessly)': False, 'contains(glean)': False, 'contains(verges)': False, 'contains(hounded)': False, 'contains(excuses)': False, 'contains(jere)': False, 'contains(quartet)': False, 'contains(recipients)': False, 'contains(crescendo)': False, 'contains(merpeople)': False, 'contains(dowling)': False, 'contains(skywalker)': False, 'contains(canet)': False, 'contains(dyed)': False, 'contains(taj)': False, 'contains(veer)': False, 'contains(project)': False, 'contains(beatng)': False, 'contains(spews)': False, 'contains(jacks)': False, 'contains(spectrum)': False, 'contains(boarder)': False, 'contains(rewards)': False, 'contains(schandling)': False, 'contains(antagonizes)': False, 'contains(workplace)': False, 'contains(complicated)': False, 'contains(dysfuntion)': False, 'contains(afi)': False, 'contains(scatter)': False, 'contains(raeeyain)': False, 'contains(dirty)': False, 'contains(suspensefully)': False, 'contains(weeds)': False, 'contains(palme)': False, 'contains(deflection)': False, 'contains(enrols)': False, 'contains(jewels)': False, 'contains(barcode)': False, 'contains(wolves)': False, 'contains(research)': False, 'contains(tripe)': False, 'contains(infamous)': False, 'contains(recoiling)': False, 'contains(scrumptiously)': False, 'contains(spearing)': False, 'contains(firorina)': False, 'contains(plath)': False, 'contains(amusements)': False, 'contains(parasites)': False, 'contains(causes)': False, 'contains(gallagher)': False, 'contains(sometimes)': False, 'contains(explainable)': False, 'contains(opal)': False, 'contains(hone)': False, 'contains(psychiatric)': False, 'contains(ham)': False, 'contains(invite)': False, 'contains(cream)': False, 'contains(november)': False, 'contains(rawhide)': False, 'contains(moons)': False, 'contains(multitudes)': False, 'contains(errors)': False, 'contains(deflate)': False, 'contains(sleuthing)': False, 'contains(oilrig)': False, 'contains(prostitues)': False, 'contains(dialogueless)': False, 'contains(attendance)': False, 'contains(paraglider)': False, 'contains(massaging)': False, 'contains(deadpan)': False, 'contains(snake)': False, 'contains(racers)': False, 'contains(gases)': False, 'contains(corrected)': False, 'contains(considerable)': False, 'contains(indigenous)': False, 'contains(definition)': False, 'contains(retrieve)': False, 'contains(admitedly)': False, 'contains(beings)': False, 'contains(kasinsky)': False, 'contains(testament)': False, 'contains(rhodes)': False, 'contains(lyricized)': False, 'contains(elmo)': False, 'contains(daqughter)': False, 'contains(ballhaus)': False, 'contains(paychecks)': False, 'contains(world)': True, 'contains(zsigmond)': False, 'contains(crowned)': False, 'contains(gopher)': False, 'contains(activists)': False, 'contains(grasping)': False, 'contains(adaptable)': False, 'contains(emanating)': False, 'contains(maliciously)': False, 'contains(polemic)': False, 'contains(affiliated)': False, 'contains(imagines)': False, 'contains(ingrid)': False, 'contains(concurrence)': False, 'contains(ocious)': False, 'contains(loren)': False, 'contains(biederman)': False, 'contains(claustral)': False, 'contains(motives)': False, 'contains(penthouse)': False, 'contains(sentencing)': False, 'contains(professors)': False, 'contains(rejoiced)': False, 'contains(yevgeny)': False, 'contains(whodunit)': False, 'contains(appropriately)': False, 'contains(robot)': False, 'contains(alice)': False, 'contains(majestically)': False, 'contains(years)': False, 'contains(theroux)': False, 'contains(zoo)': False, 'contains(west)': False, 'contains(nntphub)': False, 'contains(tonino)': False, 'contains(benefit)': False, 'contains(prances)': False, 'contains(reacquaints)': False, 'contains(natalie)': False, 'contains(rediscovers)': False, 'contains(sharpe)': False, 'contains(cheaply)': False, 'contains(rico)': False, 'contains(opposite)': False, 'contains(recycled)': False, 'contains(past)': False, 'contains(francois)': False, 'contains(disobeying)': False, 'contains(sprouted)': False, 'contains(jia)': False, 'contains(instability)': False, 'contains(ira)': False, 'contains(stamping)': False, 'contains(eery)': False, 'contains(murphy)': False, 'contains(lookin)': False, 'contains(witt)': False, 'contains(hanging)': False, 'contains(jargon)': False, 'contains(suspension)': False, 'contains(cagey)': False, 'contains(wraps)': False, 'contains(benches)': False, 'contains(respective)': False, 'contains(didi)': False, 'contains(fleischer)': False, 'contains(retains)': False, 'contains(remand)': False, 'contains(likeablity)': False, 'contains(educational)': False, 'contains(obscures)': False, 'contains(intelligent)': False, 'contains(incense)': False, 'contains(kret)': False, 'contains(friction)': False, 'contains(influence)': False, 'contains(morally)': False, 'contains(mistreated)': False, 'contains(lively)': False, 'contains(wholesome)': False, 'contains(recognizing)': False, 'contains(yahoo)': False, 'contains(salads)': False, 'contains(initiation)': False, 'contains(gavan)': False, 'contains(barrymore)': False, 'contains(mournful)': False, 'contains(caraciture)': False, 'contains(complexly)': False, 'contains(caged)': False, 'contains(bell)': False, 'contains(richelieu)': False, 'contains(gypsies)': False, 'contains(zucker)': False, 'contains(globally)': False, 'contains(diverted)': False, 'contains(chair)': False, 'contains(cavanaugh)': False, 'contains(situation)': False, 'contains(stetson)': False, 'contains(americanised)': False, 'contains(broiled)': False, 'contains(masquerading)': False, 'contains(fearlessly)': False, 'contains(sumo)': False, 'contains(periodical)': False, 'contains(seize)': False, 'contains(mishap)': False, 'contains(reuben)': False, 'contains(rush)': False, 'contains(abound)': False, 'contains(melbourne)': False, 'contains(oversight)': False, 'contains(cecilia)': False, 'contains(topicality)': False, 'contains(tomahawk)': False, 'contains(patois)': False, 'contains(kihlstedt)': False, 'contains(han)': False, 'contains(bandits)': False, 'contains(defeatist)': False, 'contains(mendes)': False, 'contains(crown)': False, 'contains(boondocks)': False, 'contains(restlessness)': False, 'contains(averse)': False, 'contains(messier)': False, 'contains(flooded)': False, 'contains(lock)': False, 'contains(commensurately)': False, 'contains(gregor)': False, 'contains(sabotaging)': False, 'contains(signy)': False, 'contains(unformal)': False, 'contains(adapt)': False, 'contains(cleverness)': False, 'contains(abbots)': False, 'contains(patch)': False, 'contains(realize)': False, 'contains(seagrave)': False, 'contains(beaman)': False, 'contains(nears)': False, 'contains(blunted)': False, 'contains(choudhury)': False, 'contains(coolness)': False, 'contains(almasy)': False, 'contains(sickness)': False, 'contains(bukater)': False, 'contains(sweats)': False, 'contains(vargas)': False, 'contains(askew)': False, 'contains(erica)': False, 'contains(primeval)': False, 'contains(interned)': False, 'contains(johnston)': False, 'contains(songwriter)': False, 'contains(respite)': False, 'contains(multidimensional)': False, 'contains(follower)': False, 'contains(seriously)': False, 'contains(originality)': False, 'contains(loveliest)': False, 'contains(flits)': False, 'contains(abused)': False, 'contains(inhuman)': False, 'contains(vomits)': False, 'contains(kethcum)': False, 'contains(sang)': False, 'contains(passenger)': False, 'contains(imagined)': False, 'contains(leadership)': False, 'contains(ethnocentric)': False, 'contains(prosper)': False, 'contains(crook)': False, 'contains(buffet)': False, 'contains(fig)': False, 'contains(chucky)': False, 'contains(memoirs)': False, 'contains(kaminski)': False, 'contains(tilting)': False, 'contains(czech)': False, 'contains(_would_)': False, 'contains(improvisationaly)': False, 'contains(linebackers)': False, 'contains(disjointed)': False, 'contains(wang)': False, 'contains(modernizing)': False, 'contains(foreheads)': False, 'contains(catchiness)': False, 'contains(raiders)': False, 'contains(silencers)': False, 'contains(uncouth)': False, 'contains(idly)': False, 'contains(voe)': False, 'contains(exuberantly)': False, 'contains(hallucinogenic)': False, 'contains(mackey)': False, 'contains(cartman)': False, 'contains(retrospect)': False, 'contains(vow)': False, 'contains(egotistical)': False, 'contains(snatch)': False, 'contains(hofstra)': False, 'contains(crooned)': False, 'contains(fifteen)': False, 'contains(doctoring)': False, 'contains(aaaaaaaahhhh)': False, 'contains(purred)': False, 'contains(lapping)': False, 'contains(allie)': False, 'contains(thaddeus)': False, 'contains(guarding)': False, 'contains(hawaiian)': False, 'contains(protovision)': False, 'contains(chopping)': False, 'contains(yugoslavian)': False, 'contains(internalize)': False, 'contains(inserting)': False, 'contains(monogamy)': False, 'contains(company)': False, 'contains(wooden)': False, 'contains(awestruck)': False, 'contains(tribes)': False, 'contains(intestines)': False, 'contains(obese)': False, 'contains(frighteners)': False, 'contains(shread)': False, 'contains(prepared)': False, 'contains(silva)': False, 'contains(yeager)': False, 'contains(royalist)': False, 'contains(slimeball)': False, 'contains(colorfully)': False, 'contains(pimple)': False, 'contains(into)': True, 'contains(firth)': False, 'contains(braggarts)': False, 'contains(babs)': False, 'contains(crackin)': False, 'contains(workmanlike)': False, 'contains(forrester)': False, 'contains(idle)': False, 'contains(cusack)': False, 'contains(accomplished)': True, 'contains(skewed)': False, 'contains(zahn)': False, 'contains(hong)': True, 'contains(sebastiano)': False, 'contains(clicked)': False, 'contains(paperwork)': False, 'contains(unwraps)': False, 'contains(wayward)': False, 'contains(rayden)': False, 'contains(torpedoes)': False, 'contains(elgar)': False, 'contains(sell)': False, 'contains(ernie)': False, 'contains(bongos)': False, 'contains(boatload)': False, 'contains(flowing)': False, 'contains(crashlands)': False, 'contains(nuptials)': False, 'contains(allegra)': False, 'contains(plotless)': False, 'contains(obssessed)': False, 'contains(realizes)': False, 'contains(advertisment)': False, 'contains(lass)': False, 'contains(spatula)': False, 'contains(initation)': False, 'contains(bigscreen)': False, 'contains(voyeuristic)': False, 'contains(grooms)': False, 'contains(blunderheaded)': False, 'contains(barton)': False, 'contains(cooks)': False, 'contains(blended)': False, 'contains(chapelle)': False, 'contains(thigh)': False, 'contains(arrow)': False, 'contains(legitimately)': False, 'contains(yojimbo)': False, 'contains(eleven)': False, 'contains(engagingly)': False, 'contains(competed)': False, 'contains(miniatures)': False, 'contains(postal)': False, 'contains(deloreans)': False, 'contains(climbs)': False, 'contains(stanleyville)': False, 'contains(thieves)': False, 'contains(fades)': False, 'contains(hugo)': False, 'contains(cayman)': False, 'contains(phil)': False, 'contains(sciorra)': False, 'contains(downloading)': False, 'contains(impaling)': False, 'contains(deuteronomy)': False, 'contains(projection)': False, 'contains(tanked)': False, 'contains(bogan)': False, 'contains(odile)': False, 'contains(palentologist)': False, 'contains(confronts)': False, 'contains(bottom)': False, 'contains(portorican)': False, 'contains(inventively)': False, 'contains(cuffs)': False, 'contains(boxing)': False, 'contains(consenting)': False, 'contains(accommodations)': False, 'contains(rapes)': False, 'contains(narrations)': False, 'contains(shocking)': False, 'contains(variable)': False, 'contains(despised)': False, 'contains(resemble)': False, 'contains(rza)': False, 'contains(conciousness)': False, 'contains(haunt)': False, 'contains(rehab)': False, 'contains(comprehensible)': False, 'contains(attorney)': False, 'contains(frights)': False, 'contains(bilingual)': False, 'contains(poignantly)': False, 'contains(goofing)': False, 'contains(dethrones)': False, 'contains(reintroduced)': False, 'contains(alienbusting)': False, 'contains(mccleod)': False, 'contains(procured)': False, 'contains(melancholic)': False, 'contains(barclay)': False, 'contains(toontown)': False, 'contains(courier)': False, 'contains(lavishness)': False, 'contains(hugs)': False, 'contains(familar)': False, 'contains(rifling)': False, 'contains(thickened)': False, 'contains(martineau)': False, 'contains(millionaire)': False, 'contains(amiss)': False, 'contains(gratuitous)': False, 'contains(urinate)': False, 'contains(materializes)': False, 'contains(fro)': False, 'contains(recollections)': False, 'contains(frewer)': False, 'contains(essays)': False, 'contains(unnerve)': False, 'contains(diverse)': False, 'contains(roadster)': False, 'contains(sant)': False, 'contains(gleam)': False, 'contains(succumb)': False, 'contains(marched)': False, 'contains(superintendent)': False, 'contains(effortlessly)': True, 'contains(prescott)': False, 'contains(comparitive)': False, 'contains(thumps)': False, 'contains(_2001_)': False, 'contains(captivatingly)': False, 'contains(kinkiness)': False, 'contains(ofcs)': False, 'contains(with)': True, 'contains(disfigured)': False, 'contains(wynn)': False, 'contains(idols)': False, 'contains(lounging)': False, 'contains(lindner)': False, 'contains(arousal)': False, 'contains(vainly)': False, 'contains(huns)': False, 'contains(intent)': False, 'contains(rosselini)': False, 'contains(jubilantly)': False, 'contains(novelty)': False, 'contains(unparalleled)': False, 'contains(insight)': False, 'contains(workmates)': False, 'contains(perfect)': False, 'contains(1600s)': False, 'contains(impressions)': False, 'contains(rumored)': False, 'contains(getaway)': False, 'contains(slickster)': False, 'contains(dirtier)': False, 'contains(spoken)': False, 'contains(dryland)': False, 'contains(chain)': False, 'contains(realized)': False, 'contains(_people_)': False, 'contains(tech)': False, 'contains(brotherhood)': False, 'contains(operation)': False, 'contains(houston)': False, 'contains(guiler)': False, 'contains(sublte)': False, 'contains(newspaper)': False, 'contains(dick_)': False, 'contains(eddie)': False, 'contains(ulcer)': False, 'contains(fanatasies)': False, 'contains(tv2)': False, 'contains(emerich)': False, 'contains(caused)': False, 'contains(missy)': False, 'contains(marshals)': False, 'contains(jittery)': False, 'contains(dolly)': False, 'contains(hap)': False, 'contains(barbarino)': False, 'contains(insecurity)': False, 'contains(numeral)': False, 'contains(decorating)': False, 'contains(crotch)': False, 'contains(cherbourg)': False, 'contains(controversies)': False, 'contains(dwindling)': False, 'contains(cormack)': False, 'contains(buffed)': False, 'contains(committing)': False, 'contains(powaqqatsi)': False, 'contains(malevolent)': False, 'contains(insubordination)': False, 'contains(awards)': False, 'contains(visually)': False, 'contains(tvs)': False, 'contains(thailand)': False, 'contains(rejoin)': False, 'contains(sommerset)': False, 'contains(disheveled)': False, 'contains(seclusion)': False, 'contains(comedy)': True, 'contains(travel)': False, 'contains(hypnotist)': False, 'contains(scraggly)': False, 'contains(thai)': False, 'contains(terrorists)': False, 'contains(nebbish)': False, 'contains(documentarian)': False, 'contains(waterlogged)': False, 'contains(cynics)': False, 'contains(understands)': False, 'contains(jugs)': False, 'contains(boardroom)': False, 'contains(15th)': False, 'contains(subkoff)': False, 'contains(hab)': False, 'contains(24th)': False, 'contains(comely)': False, 'contains(dicks)': False, 'contains(copyrighted)': False, 'contains(paper)': False, 'contains(denny)': False, 'contains(leonardo)': False, 'contains(matsumoto)': False, 'contains(sane)': False, 'contains(intended)': False, 'contains(kaminsky)': False, 'contains(underbids)': False, 'contains(brides)': False, 'contains(retrograding)': False, 'contains(overpowering)': False, 'contains(depravity)': False, 'contains(tingles)': False, 'contains(multiracial)': False, 'contains(eighteen)': False, 'contains(flashback)': False, 'contains(homogeneity)': False, 'contains(knowingly)': False, 'contains(full)': False, 'contains(wcw)': False, 'contains(divine)': False, 'contains(pleasured)': False, 'contains(reverence)': False, 'contains(loca)': False, 'contains(suburbs)': False, 'contains(toothed)': False, 'contains(infect)': False, 'contains(greener)': False, 'contains(politely)': False, 'contains(quicker)': False, 'contains(wane)': False, 'contains(video)': False, 'contains(catchy)': False, 'contains(service)': False, 'contains(\\\\)': False, 'contains(maclaine)': False, 'contains(associating)': False, 'contains(critter)': False, 'contains(pesimism)': False, 'contains(resonates)': False, 'contains(gooey)': False, 'contains(installed)': False, 'contains(exaggerations)': False, 'contains(dishearteningly)': False, 'contains(knocked)': False, 'contains(justly)': False, 'contains(intend)': False, 'contains(sans)': False, 'contains(illness)': False, 'contains(manga)': False, 'contains(menancing)': False, 'contains(otherworldly)': False, 'contains(existentialist)': False, 'contains(sickeningly)': False, 'contains(jerk)': False, 'contains(role)': False, 'contains(hasn)': False, 'contains(introspection)': False, 'contains(frizzi)': False, 'contains(triangles)': False, 'contains(parents)': False, 'contains(crookier)': False, 'contains(fakeouts)': False, 'contains(mat)': False, 'contains(indifference)': False, 'contains(prakazrel)': False, 'contains(spielbergization)': False, 'contains(33)': False, 'contains(chorus)': False, 'contains(ugh)': False, 'contains(tornatore)': False, 'contains(cleon)': False, 'contains(squirming)': False, 'contains(bogie)': False, 'contains(panicked)': False, 'contains(automats)': False, 'contains(rossi)': False, 'contains(festivities)': False, 'contains(lash)': False, 'contains(zzzzzzz)': False, 'contains(maxwell)': False, 'contains(readings)': False, 'contains(shoots)': False, 'contains(unabashedly)': False, 'contains(septic)': False, 'contains(riders)': False, 'contains(sooty)': False, 'contains(teck)': False, 'contains(disconnect)': False, 'contains(dubious)': False, 'contains(diminishing)': False, 'contains(dancefloor)': False, 'contains(adaptation)': False, 'contains(victor)': False, 'contains(oneness)': False, 'contains(plunges)': False, 'contains(healer)': False, 'contains(disdains)': False, 'contains(quiclky)': False, 'contains(anette)': False, 'contains(reiser)': False, 'contains(secular)': False, 'contains(fondled)': False, 'contains(911)': False, 'contains(jacki)': False, 'contains(leia)': False, 'contains(ogled)': False, 'contains(davidovitch)': False, 'contains(finklestein)': False, 'contains(undeterred)': False, 'contains(dwells)': False, 'contains(dentures)': False, 'contains(bringing)': False, 'contains(matchmakers)': False, 'contains(pleasures)': True, 'contains(freelance)': False, 'contains(slashfest)': False, 'contains(abbott)': False, 'contains(localized)': False, 'contains(liaisons)': False, 'contains(fit)': False, 'contains(trips)': False, 'contains(wreaked)': False, 'contains(next)': False, 'contains(theater)': False, 'contains(swigert)': False, 'contains(civilian)': False, 'contains(suppression)': False, 'contains(punts)': False, 'contains(charade)': False, 'contains(wordlessly)': False, 'contains(abuses)': False, 'contains(billboard)': False, 'contains(sextette)': False}\n"
     ]
    }
   ],
   "source": [
    "print(document_features(movie_reviews.words('pos/cv957_8737.txt'))) "
   ]
  },
  {
   "cell_type": "code",
   "execution_count": 95,
   "metadata": {
    "collapsed": true
   },
   "outputs": [],
   "source": [
    "featuresets = [(document_features(d), c) for (d,c) in documents]\n",
    "train_set, test_set = featuresets[100:], featuresets[:100]\n",
    "classifier = nltk.NaiveBayesClassifier.train(train_set)"
   ]
  },
  {
   "cell_type": "code",
   "execution_count": 96,
   "metadata": {
    "collapsed": false
   },
   "outputs": [
    {
     "name": "stdout",
     "output_type": "stream",
     "text": [
      "0.62\n"
     ]
    }
   ],
   "source": [
    "print(nltk.classify.accuracy(classifier, test_set))"
   ]
  },
  {
   "cell_type": "code",
   "execution_count": 97,
   "metadata": {
    "collapsed": false
   },
   "outputs": [
    {
     "name": "stdout",
     "output_type": "stream",
     "text": [
      "Most Informative Features\n",
      "          contains(sans) = True              neg : pos    =      8.2 : 1.0\n",
      "    contains(cronenberg) = True              pos : neg    =      7.1 : 1.0\n",
      "    contains(mediocrity) = True              neg : pos    =      6.9 : 1.0\n",
      "   contains(overwhelmed) = True              pos : neg    =      6.4 : 1.0\n",
      "   contains(bruckheimer) = True              neg : pos    =      6.2 : 1.0\n",
      "         contains(wires) = True              neg : pos    =      6.2 : 1.0\n",
      "        contains(doubts) = True              pos : neg    =      5.9 : 1.0\n",
      "          contains(wits) = True              pos : neg    =      5.8 : 1.0\n",
      "       contains(topping) = True              pos : neg    =      5.8 : 1.0\n",
      "        contains(fabric) = True              pos : neg    =      5.8 : 1.0\n",
      "          contains(lang) = True              pos : neg    =      5.8 : 1.0\n",
      "           contains(ugh) = True              neg : pos    =      5.7 : 1.0\n",
      "     contains(uplifting) = True              pos : neg    =      5.7 : 1.0\n",
      "  contains(effortlessly) = True              pos : neg    =      5.7 : 1.0\n",
      "       contains(admired) = True              pos : neg    =      5.5 : 1.0\n"
     ]
    }
   ],
   "source": [
    "classifier.show_most_informative_features(15)"
   ]
  },
  {
   "cell_type": "code",
   "execution_count": 98,
   "metadata": {
    "collapsed": true
   },
   "outputs": [],
   "source": [
    "from nltk.corpus import brown\n",
    "suffix_fdist = nltk.FreqDist()\n",
    "for word in brown.words():\n",
    "     word = word.lower()\n",
    "     suffix_fdist[word[-1:]] += 1\n",
    "     suffix_fdist[word[-2:]] += 1\n",
    "     suffix_fdist[word[-3:]] += 1"
   ]
  },
  {
   "cell_type": "code",
   "execution_count": 99,
   "metadata": {
    "collapsed": false
   },
   "outputs": [
    {
     "name": "stdout",
     "output_type": "stream",
     "text": [
      "[u'e', u',', u'.', u's', u'd', u't', u'he', u'n', u'a', u'of', u'the', u'y', u'r', u'to', u'in', u'f', u'o', u'ed', u'nd', u'is', u'on', u'l', u'g', u'and', u'ng', u'er', u'as', u'ing', u'h', u'at', u'es', u'or', u're', u'it', u'``', u'an', u\"''\", u'm', u';', u'i', u'ly', u'ion', u'en', u'al', u'?', u'nt', u'be', u'hat', u'st', u'his', u'th', u'll', u'le', u'ce', u'by', u'ts', u'me', u've', u\"'\", u'se', u'ut', u'was', u'for', u'ent', u'ch', u'k', u'w', u'ld', u'`', u'rs', u'ted', u'ere', u'her', u'ne', u'ns', u'ith', u'ad', u'ry', u')', u'(', u'te', u'--', u'ay', u'ty', u'ot', u'p', u'nce', u\"'s\", u'ter', u'om', u'ss', u':', u'we', u'are', u'c', u'ers', u'uld', u'had', u'so', u'ey']\n"
     ]
    }
   ],
   "source": [
    "common_suffixes = [suffix for (suffix, count) in suffix_fdist.most_common(100)]\n",
    "print(common_suffixes)"
   ]
  },
  {
   "cell_type": "code",
   "execution_count": 100,
   "metadata": {
    "collapsed": true
   },
   "outputs": [],
   "source": [
    "def pos_features(word):\n",
    "...     features = {}\n",
    "...     for suffix in common_suffixes:\n",
    "...         features['endswith({})'.format(suffix)] = word.lower().endswith(suffix)\n",
    "...     return features"
   ]
  },
  {
   "cell_type": "code",
   "execution_count": 101,
   "metadata": {
    "collapsed": true
   },
   "outputs": [],
   "source": [
    "tagged_words = brown.tagged_words(categories='news')\n",
    "featuresets = [(pos_features(n), g) for (n,g) in tagged_words]"
   ]
  },
  {
   "cell_type": "code",
   "execution_count": 102,
   "metadata": {
    "collapsed": true
   },
   "outputs": [],
   "source": [
    "size = int(len(featuresets) * 0.1)\n",
    "train_set, test_set = featuresets[size:], featuresets[:size]"
   ]
  },
  {
   "cell_type": "code",
   "execution_count": 103,
   "metadata": {
    "collapsed": false
   },
   "outputs": [
    {
     "data": {
      "text/plain": [
       "0.6270512182993535"
      ]
     },
     "execution_count": 103,
     "metadata": {},
     "output_type": "execute_result"
    }
   ],
   "source": [
    "classifier = nltk.DecisionTreeClassifier.train(train_set)\n",
    "nltk.classify.accuracy(classifier, test_set)"
   ]
  },
  {
   "cell_type": "code",
   "execution_count": 104,
   "metadata": {
    "collapsed": false
   },
   "outputs": [
    {
     "data": {
      "text/plain": [
       "u'NNS'"
      ]
     },
     "execution_count": 104,
     "metadata": {},
     "output_type": "execute_result"
    }
   ],
   "source": [
    "classifier.classify(pos_features('cats'))"
   ]
  },
  {
   "cell_type": "code",
   "execution_count": 105,
   "metadata": {
    "collapsed": false
   },
   "outputs": [
    {
     "name": "stdout",
     "output_type": "stream",
     "text": [
      "if endswith(the) == False: \n",
      "  if endswith(,) == False: \n",
      "    if endswith(s) == False: \n",
      "      if endswith(.) == False: return u'.'\n",
      "      if endswith(.) == True: return u'.'\n",
      "    if endswith(s) == True: \n",
      "      if endswith(is) == False: return u'PP$'\n",
      "      if endswith(is) == True: return u'BEZ'\n",
      "  if endswith(,) == True: return u','\n",
      "if endswith(the) == True: return u'AT'\n",
      "\n"
     ]
    }
   ],
   "source": [
    "print(classifier.pseudocode(depth=4))"
   ]
  },
  {
   "cell_type": "code",
   "execution_count": 106,
   "metadata": {
    "collapsed": true
   },
   "outputs": [],
   "source": [
    "def pos_features(sentence, i):\n",
    "    features = {\"suffix(1)\": sentence[i][-1:],\n",
    "                \"suffix(2)\": sentence[i][-2:],\n",
    "                \"suffix(3)\": sentence[i][-3:]}\n",
    "    if i == 0:\n",
    "        features[\"prev-word\"] = \"<START>\"\n",
    "    else:\n",
    "        features[\"prev-word\"] = sentence[i-1]\n",
    "    return features"
   ]
  },
  {
   "cell_type": "code",
   "execution_count": 107,
   "metadata": {
    "collapsed": false
   },
   "outputs": [
    {
     "data": {
      "text/plain": [
       "{'prev-word': u'an',\n",
       " 'suffix(1)': u'n',\n",
       " 'suffix(2)': u'on',\n",
       " 'suffix(3)': u'ion'}"
      ]
     },
     "execution_count": 107,
     "metadata": {},
     "output_type": "execute_result"
    }
   ],
   "source": [
    "pos_features(brown.sents()[0], 8)"
   ]
  },
  {
   "cell_type": "code",
   "execution_count": 108,
   "metadata": {
    "collapsed": true
   },
   "outputs": [],
   "source": [
    "tagged_sents = brown.tagged_sents(categories='news')\n",
    "featuresets = []\n",
    "for tagged_sent in tagged_sents:\n",
    "     untagged_sent = nltk.tag.untag(tagged_sent)\n",
    "     for i, (word, tag) in enumerate(tagged_sent):\n",
    "         featuresets.append( (pos_features(untagged_sent, i), tag) )\n",
    "\n",
    "size = int(len(featuresets) * 0.1)\n",
    "train_set, test_set = featuresets[size:], featuresets[:size]\n",
    "classifier = nltk.NaiveBayesClassifier.train(train_set)"
   ]
  },
  {
   "cell_type": "code",
   "execution_count": 109,
   "metadata": {
    "collapsed": false
   },
   "outputs": [
    {
     "data": {
      "text/plain": [
       "0.7891596220785678"
      ]
     },
     "execution_count": 109,
     "metadata": {},
     "output_type": "execute_result"
    }
   ],
   "source": [
    "nltk.classify.accuracy(classifier, test_set)"
   ]
  },
  {
   "cell_type": "code",
   "execution_count": 110,
   "metadata": {
    "collapsed": true
   },
   "outputs": [],
   "source": [
    "def pos_features(sentence, i, history):\n",
    "     features = {\"suffix(1)\": sentence[i][-1:],\n",
    "                 \"suffix(2)\": sentence[i][-2:],\n",
    "                 \"suffix(3)\": sentence[i][-3:]}\n",
    "     if i == 0:\n",
    "         features[\"prev-word\"] = \"<START>\"\n",
    "         features[\"prev-tag\"] = \"<START>\"\n",
    "     else:\n",
    "         features[\"prev-word\"] = sentence[i-1]\n",
    "         features[\"prev-tag\"] = history[i-1]\n",
    "     return features"
   ]
  },
  {
   "cell_type": "code",
   "execution_count": 111,
   "metadata": {
    "collapsed": true
   },
   "outputs": [],
   "source": [
    "class ConsecutivePosTagger(nltk.TaggerI):\n",
    "\n",
    "    def __init__(self, train_sents):\n",
    "        train_set = []\n",
    "        for tagged_sent in train_sents:\n",
    "            untagged_sent = nltk.tag.untag(tagged_sent)\n",
    "            history = []\n",
    "            for i, (word, tag) in enumerate(tagged_sent):\n",
    "                featureset = pos_features(untagged_sent, i, history)\n",
    "                train_set.append( (featureset, tag) )\n",
    "                history.append(tag)\n",
    "        self.classifier = nltk.NaiveBayesClassifier.train(train_set)\n",
    "\n",
    "    def tag(self, sentence):\n",
    "        history = []\n",
    "        for i, word in enumerate(sentence):\n",
    "            featureset = pos_features(sentence, i, history)\n",
    "            tag = self.classifier.classify(featureset)\n",
    "            history.append(tag)\n",
    "        return zip(sentence, history)"
   ]
  },
  {
   "cell_type": "code",
   "execution_count": 112,
   "metadata": {
    "collapsed": false
   },
   "outputs": [
    {
     "name": "stdout",
     "output_type": "stream",
     "text": [
      "0.798052851182\n"
     ]
    }
   ],
   "source": [
    "tagged_sents = brown.tagged_sents(categories='news')\n",
    "size = int(len(tagged_sents) * 0.1)\n",
    "train_sents, test_sents = tagged_sents[size:], tagged_sents[:size]\n",
    "tagger = ConsecutivePosTagger(train_sents)\n",
    "print(tagger.evaluate(test_sents))"
   ]
  },
  {
   "cell_type": "code",
   "execution_count": 113,
   "metadata": {
    "collapsed": true
   },
   "outputs": [],
   "source": [
    "sents = nltk.corpus.treebank_raw.sents()\n",
    "tokens = []\n",
    "boundaries = set()\n",
    "offset = 0\n",
    "for sent in sents:\n",
    "    tokens.extend(sent)\n",
    "    offset += len(sent)\n",
    "    boundaries.add(offset-1)"
   ]
  },
  {
   "cell_type": "code",
   "execution_count": 114,
   "metadata": {
    "collapsed": true
   },
   "outputs": [],
   "source": [
    "def punct_features(tokens, i):\n",
    "...     return {'next-word-capitalized': tokens[i+1][0].isupper(),\n",
    "...             'prev-word': tokens[i-1].lower(),\n",
    "...             'punct': tokens[i],\n",
    "...             'prev-word-is-one-char': len(tokens[i-1]) == 1}"
   ]
  },
  {
   "cell_type": "code",
   "execution_count": 115,
   "metadata": {
    "collapsed": true
   },
   "outputs": [],
   "source": [
    "featuresets = [(punct_features(tokens, i), (i in boundaries))\n",
    "...                for i in range(1, len(tokens)-1)\n",
    "...                if tokens[i] in '.?!']"
   ]
  },
  {
   "cell_type": "code",
   "execution_count": 116,
   "metadata": {
    "collapsed": false
   },
   "outputs": [
    {
     "data": {
      "text/plain": [
       "0.936026936026936"
      ]
     },
     "execution_count": 116,
     "metadata": {},
     "output_type": "execute_result"
    }
   ],
   "source": [
    "size = int(len(featuresets) * 0.1)\n",
    "train_set, test_set = featuresets[size:], featuresets[:size]\n",
    "classifier = nltk.NaiveBayesClassifier.train(train_set)\n",
    "nltk.classify.accuracy(classifier, test_set)"
   ]
  },
  {
   "cell_type": "code",
   "execution_count": 117,
   "metadata": {
    "collapsed": true
   },
   "outputs": [],
   "source": [
    "def segment_sentences(words):\n",
    "    start = 0\n",
    "    sents = []\n",
    "    for i, word in enumerate(words):\n",
    "        if word in '.?!' and classifier.classify(punct_features(words, i)) == True:\n",
    "            sents.append(words[start:i+1])\n",
    "            start = i+1\n",
    "    if start < len(words):\n",
    "        sents.append(words[start:])\n",
    "    return sents"
   ]
  },
  {
   "cell_type": "code",
   "execution_count": 118,
   "metadata": {
    "collapsed": true
   },
   "outputs": [],
   "source": [
    "posts = nltk.corpus.nps_chat.xml_posts()[:10000]"
   ]
  },
  {
   "cell_type": "code",
   "execution_count": 119,
   "metadata": {
    "collapsed": true
   },
   "outputs": [],
   "source": [
    "def dialogue_act_features(post):\n",
    "...     features = {}\n",
    "...     for word in nltk.word_tokenize(post):\n",
    "...         features['contains({})'.format(word.lower())] = True\n",
    "...     return features"
   ]
  },
  {
   "cell_type": "code",
   "execution_count": 120,
   "metadata": {
    "collapsed": false
   },
   "outputs": [
    {
     "name": "stdout",
     "output_type": "stream",
     "text": [
      "0.668\n"
     ]
    }
   ],
   "source": [
    "featuresets = [(dialogue_act_features(post.text), post.get('class')) for post in posts]\n",
    "size = int(len(featuresets) * 0.1)\n",
    "train_set, test_set = featuresets[size:], featuresets[:size]\n",
    "classifier = nltk.NaiveBayesClassifier.train(train_set)\n",
    "print(nltk.classify.accuracy(classifier, test_set))"
   ]
  },
  {
   "cell_type": "code",
   "execution_count": 121,
   "metadata": {
    "collapsed": true
   },
   "outputs": [],
   "source": [
    "def rte_features(rtepair):\n",
    "    extractor = nltk.RTEFeatureExtractor(rtepair)\n",
    "    features = {}\n",
    "    features['word_overlap'] = len(extractor.overlap('word'))\n",
    "    features['word_hyp_extra'] = len(extractor.hyp_extra('word'))\n",
    "    features['ne_overlap'] = len(extractor.overlap('ne'))\n",
    "    features['ne_hyp_extra'] = len(extractor.hyp_extra('ne'))\n",
    "    return features"
   ]
  },
  {
   "cell_type": "code",
   "execution_count": 147,
   "metadata": {
    "collapsed": false
   },
   "outputs": [
    {
     "name": "stdout",
     "output_type": "stream",
     "text": [
      "set([''])\n"
     ]
    }
   ],
   "source": [
    "from nltk.corpus import rte\n",
    "\n",
    "rtepair = nltk.corpus.rte.pairs(['rte3_dev.xml'])[33]\n",
    "extractor = nltk.RTEFeatureExtractor(rtepair)\n",
    "print(extractor.text_words)"
   ]
  },
  {
   "cell_type": "code",
   "execution_count": 148,
   "metadata": {
    "collapsed": false
   },
   "outputs": [
    {
     "name": "stdout",
     "output_type": "stream",
     "text": [
      "set([''])\n"
     ]
    }
   ],
   "source": [
    "print(extractor.hyp_words)"
   ]
  },
  {
   "cell_type": "code",
   "execution_count": 149,
   "metadata": {
    "collapsed": false
   },
   "outputs": [
    {
     "name": "stdout",
     "output_type": "stream",
     "text": [
      "set([''])\n"
     ]
    }
   ],
   "source": [
    "print(extractor.overlap('word'))"
   ]
  },
  {
   "cell_type": "code",
   "execution_count": 150,
   "metadata": {
    "collapsed": false
   },
   "outputs": [
    {
     "name": "stdout",
     "output_type": "stream",
     "text": [
      "set([])\n"
     ]
    }
   ],
   "source": [
    "print(extractor.overlap('ne'))"
   ]
  },
  {
   "cell_type": "code",
   "execution_count": 151,
   "metadata": {
    "collapsed": false
   },
   "outputs": [
    {
     "name": "stdout",
     "output_type": "stream",
     "text": [
      "set([])\n"
     ]
    }
   ],
   "source": [
    "print(extractor.hyp_extra('word'))"
   ]
  },
  {
   "cell_type": "code",
   "execution_count": 152,
   "metadata": {
    "collapsed": false
   },
   "outputs": [
    {
     "name": "stdout",
     "output_type": "stream",
     "text": [
      "showing info https://raw.githubusercontent.com/nltk/nltk_data/gh-pages/index.xml\n"
     ]
    },
    {
     "data": {
      "text/plain": [
       "True"
      ]
     },
     "execution_count": 152,
     "metadata": {},
     "output_type": "execute_result"
    }
   ],
   "source": [
    "nltk.download()"
   ]
  },
  {
   "cell_type": "code",
   "execution_count": 153,
   "metadata": {
    "collapsed": true
   },
   "outputs": [],
   "source": [
    "import random\n",
    "from nltk.corpus import brown\n",
    "tagged_sents = list(brown.tagged_sents(categories='news'))\n",
    "random.shuffle(tagged_sents)\n",
    "size = int(len(tagged_sents) * 0.1)\n",
    "train_set, test_set = tagged_sents[size:], tagged_sents[:size]"
   ]
  },
  {
   "cell_type": "code",
   "execution_count": 160,
   "metadata": {
    "collapsed": true
   },
   "outputs": [],
   "source": [
    "file_ids = brown.fileids(categories='news')\n",
    "size = int(len(file_ids) * 0.1)\n",
    "train_set = brown.tagged_sents(file_ids[size:])\n",
    "test_set = brown.tagged_sents(file_ids[:size])"
   ]
  },
  {
   "cell_type": "code",
   "execution_count": 177,
   "metadata": {
    "collapsed": false
   },
   "outputs": [],
   "source": [
    "train_set = brown.tagged_sents(categories='news')[:2]\n",
    "test_set = brown.tagged_sents(categories='fiction')[:2]"
   ]
  },
  {
   "cell_type": "code",
   "execution_count": 183,
   "metadata": {
    "collapsed": false
   },
   "outputs": [
    {
     "ename": "ValueError",
     "evalue": "too many values to unpack",
     "output_type": "error",
     "traceback": [
      "\u001b[0;31m---------------------------------------------------------------------------\u001b[0m",
      "\u001b[0;31mValueError\u001b[0m                                Traceback (most recent call last)",
      "\u001b[0;32m<ipython-input-183-04cf3a71aa50>\u001b[0m in \u001b[0;36m<module>\u001b[0;34m()\u001b[0m\n\u001b[0;32m----> 1\u001b[0;31m \u001b[0mclassifier\u001b[0m \u001b[1;33m=\u001b[0m \u001b[0mnltk\u001b[0m\u001b[1;33m.\u001b[0m\u001b[0mNaiveBayesClassifier\u001b[0m\u001b[1;33m.\u001b[0m\u001b[0mtrain\u001b[0m\u001b[1;33m(\u001b[0m\u001b[0mtrain_set\u001b[0m\u001b[1;33m)\u001b[0m\u001b[1;33m\u001b[0m\u001b[0m\n\u001b[0m\u001b[1;32m      2\u001b[0m \u001b[1;32mprint\u001b[0m\u001b[1;33m(\u001b[0m\u001b[1;34m'Accuracy: {:4.2f}'\u001b[0m\u001b[1;33m.\u001b[0m\u001b[0mformat\u001b[0m\u001b[1;33m(\u001b[0m\u001b[0mnltk\u001b[0m\u001b[1;33m.\u001b[0m\u001b[0mclassify\u001b[0m\u001b[1;33m.\u001b[0m\u001b[0maccuracy\u001b[0m\u001b[1;33m(\u001b[0m\u001b[0mclassifier\u001b[0m\u001b[1;33m,\u001b[0m \u001b[0mtest_set\u001b[0m\u001b[1;33m)\u001b[0m\u001b[1;33m)\u001b[0m\u001b[1;33m)\u001b[0m\u001b[1;33m\u001b[0m\u001b[0m\n",
      "\u001b[0;32mc:\\python27\\lib\\site-packages\\nltk\\classify\\naivebayes.pyc\u001b[0m in \u001b[0;36mtrain\u001b[0;34m(cls, labeled_featuresets, estimator)\u001b[0m\n\u001b[1;32m    192\u001b[0m         \u001b[1;31m# Count up how many times each feature value occurred, given\u001b[0m\u001b[1;33m\u001b[0m\u001b[1;33m\u001b[0m\u001b[0m\n\u001b[1;32m    193\u001b[0m         \u001b[1;31m# the label and featurename.\u001b[0m\u001b[1;33m\u001b[0m\u001b[1;33m\u001b[0m\u001b[0m\n\u001b[0;32m--> 194\u001b[0;31m         \u001b[1;32mfor\u001b[0m \u001b[0mfeatureset\u001b[0m\u001b[1;33m,\u001b[0m \u001b[0mlabel\u001b[0m \u001b[1;32min\u001b[0m \u001b[0mlabeled_featuresets\u001b[0m\u001b[1;33m:\u001b[0m\u001b[1;33m\u001b[0m\u001b[0m\n\u001b[0m\u001b[1;32m    195\u001b[0m             \u001b[0mlabel_freqdist\u001b[0m\u001b[1;33m[\u001b[0m\u001b[0mlabel\u001b[0m\u001b[1;33m]\u001b[0m \u001b[1;33m+=\u001b[0m \u001b[1;36m1\u001b[0m\u001b[1;33m\u001b[0m\u001b[0m\n\u001b[1;32m    196\u001b[0m             \u001b[1;32mfor\u001b[0m \u001b[0mfname\u001b[0m\u001b[1;33m,\u001b[0m \u001b[0mfval\u001b[0m \u001b[1;32min\u001b[0m \u001b[0mfeatureset\u001b[0m\u001b[1;33m.\u001b[0m\u001b[0mitems\u001b[0m\u001b[1;33m(\u001b[0m\u001b[1;33m)\u001b[0m\u001b[1;33m:\u001b[0m\u001b[1;33m\u001b[0m\u001b[0m\n",
      "\u001b[0;31mValueError\u001b[0m: too many values to unpack"
     ]
    }
   ],
   "source": [
    "classifier = nltk.NaiveBayesClassifier.train(train_set) \n",
    "print('Accuracy: {:4.2f}'.format(nltk.classify.accuracy(classifier, test_set))) "
   ]
  },
  {
   "cell_type": "code",
   "execution_count": 162,
   "metadata": {
    "collapsed": false
   },
   "outputs": [
    {
     "data": {
      "text/plain": [
       "[[(u'The', u'AT'), (u'Fulton', u'NP-TL'), (u'County', u'NN-TL'), (u'Grand', u'JJ-TL'), (u'Jury', u'NN-TL'), (u'said', u'VBD'), (u'Friday', u'NR'), (u'an', u'AT'), (u'investigation', u'NN'), (u'of', u'IN'), (u\"Atlanta's\", u'NP$'), (u'recent', u'JJ'), (u'primary', u'NN'), (u'election', u'NN'), (u'produced', u'VBD'), (u'``', u'``'), (u'no', u'AT'), (u'evidence', u'NN'), (u\"''\", u\"''\"), (u'that', u'CS'), (u'any', u'DTI'), (u'irregularities', u'NNS'), (u'took', u'VBD'), (u'place', u'NN'), (u'.', u'.')], [(u'The', u'AT'), (u'jury', u'NN'), (u'further', u'RBR'), (u'said', u'VBD'), (u'in', u'IN'), (u'term-end', u'NN'), (u'presentments', u'NNS'), (u'that', u'CS'), (u'the', u'AT'), (u'City', u'NN-TL'), (u'Executive', u'JJ-TL'), (u'Committee', u'NN-TL'), (u',', u','), (u'which', u'WDT'), (u'had', u'HVD'), (u'over-all', u'JJ'), (u'charge', u'NN'), (u'of', u'IN'), (u'the', u'AT'), (u'election', u'NN'), (u',', u','), (u'``', u'``'), (u'deserves', u'VBZ'), (u'the', u'AT'), (u'praise', u'NN'), (u'and', u'CC'), (u'thanks', u'NNS'), (u'of', u'IN'), (u'the', u'AT'), (u'City', u'NN-TL'), (u'of', u'IN-TL'), (u'Atlanta', u'NP-TL'), (u\"''\", u\"''\"), (u'for', u'IN'), (u'the', u'AT'), (u'manner', u'NN'), (u'in', u'IN'), (u'which', u'WDT'), (u'the', u'AT'), (u'election', u'NN'), (u'was', u'BEDZ'), (u'conducted', u'VBN'), (u'.', u'.')], ...]"
      ]
     },
     "execution_count": 162,
     "metadata": {},
     "output_type": "execute_result"
    }
   ],
   "source": [
    "brown.tagged_sents(categories='news')"
   ]
  },
  {
   "cell_type": "code",
   "execution_count": 182,
   "metadata": {
    "collapsed": false
   },
   "outputs": [
    {
     "data": {
      "text/plain": [
       "[[(u'Thirty-three', u'CD-HL')],\n",
       " [(u'Scotty', u'NP'),\n",
       "  (u'did', u'DOD'),\n",
       "  (u'not', u'*'),\n",
       "  (u'go', u'VB'),\n",
       "  (u'back', u'RB'),\n",
       "  (u'to', u'IN'),\n",
       "  (u'school', u'NN'),\n",
       "  (u'.', u'.')]]"
      ]
     },
     "execution_count": 182,
     "metadata": {},
     "output_type": "execute_result"
    }
   ],
   "source": [
    "brown.tagged_sents(categories='fiction')[:2]"
   ]
  },
  {
   "cell_type": "code",
   "execution_count": 184,
   "metadata": {
    "collapsed": true
   },
   "outputs": [],
   "source": [
    "def tag_list(tagged_sents):\n",
    "...     return [tag for sent in tagged_sents for (word, tag) in sent]"
   ]
  },
  {
   "cell_type": "code",
   "execution_count": 185,
   "metadata": {
    "collapsed": true
   },
   "outputs": [],
   "source": [
    "def apply_tagger(tagger, corpus):\n",
    "...     return [tagger.tag(nltk.tag.untag(sent)) for sent in corpus]"
   ]
  },
  {
   "cell_type": "code",
   "execution_count": 186,
   "metadata": {
    "collapsed": false
   },
   "outputs": [
    {
     "ename": "NameError",
     "evalue": "name 't2' is not defined",
     "output_type": "error",
     "traceback": [
      "\u001b[0;31m---------------------------------------------------------------------------\u001b[0m",
      "\u001b[0;31mNameError\u001b[0m                                 Traceback (most recent call last)",
      "\u001b[0;32m<ipython-input-186-9c84e84ad6bc>\u001b[0m in \u001b[0;36m<module>\u001b[0;34m()\u001b[0m\n\u001b[1;32m      1\u001b[0m \u001b[0mgold\u001b[0m \u001b[1;33m=\u001b[0m \u001b[0mtag_list\u001b[0m\u001b[1;33m(\u001b[0m\u001b[0mbrown\u001b[0m\u001b[1;33m.\u001b[0m\u001b[0mtagged_sents\u001b[0m\u001b[1;33m(\u001b[0m\u001b[0mcategories\u001b[0m\u001b[1;33m=\u001b[0m\u001b[1;34m'editorial'\u001b[0m\u001b[1;33m)\u001b[0m\u001b[1;33m)\u001b[0m\u001b[1;33m\u001b[0m\u001b[0m\n\u001b[0;32m----> 2\u001b[0;31m \u001b[0mtest\u001b[0m \u001b[1;33m=\u001b[0m \u001b[0mtag_list\u001b[0m\u001b[1;33m(\u001b[0m\u001b[0mapply_tagger\u001b[0m\u001b[1;33m(\u001b[0m\u001b[0mt2\u001b[0m\u001b[1;33m,\u001b[0m \u001b[0mbrown\u001b[0m\u001b[1;33m.\u001b[0m\u001b[0mtagged_sents\u001b[0m\u001b[1;33m(\u001b[0m\u001b[0mcategories\u001b[0m\u001b[1;33m=\u001b[0m\u001b[1;34m'editorial'\u001b[0m\u001b[1;33m)\u001b[0m\u001b[1;33m)\u001b[0m\u001b[1;33m)\u001b[0m\u001b[1;33m\u001b[0m\u001b[0m\n\u001b[0m\u001b[1;32m      3\u001b[0m \u001b[0mcm\u001b[0m \u001b[1;33m=\u001b[0m \u001b[0mnltk\u001b[0m\u001b[1;33m.\u001b[0m\u001b[0mConfusionMatrix\u001b[0m\u001b[1;33m(\u001b[0m\u001b[0mgold\u001b[0m\u001b[1;33m,\u001b[0m \u001b[0mtest\u001b[0m\u001b[1;33m)\u001b[0m\u001b[1;33m\u001b[0m\u001b[0m\n\u001b[1;32m      4\u001b[0m \u001b[1;32mprint\u001b[0m\u001b[1;33m(\u001b[0m\u001b[0mcm\u001b[0m\u001b[1;33m.\u001b[0m\u001b[0mpretty_format\u001b[0m\u001b[1;33m(\u001b[0m\u001b[0msort_by_count\u001b[0m\u001b[1;33m=\u001b[0m\u001b[0mTrue\u001b[0m\u001b[1;33m,\u001b[0m \u001b[0mshow_percents\u001b[0m\u001b[1;33m=\u001b[0m\u001b[0mTrue\u001b[0m\u001b[1;33m,\u001b[0m \u001b[0mtruncate\u001b[0m\u001b[1;33m=\u001b[0m\u001b[1;36m9\u001b[0m\u001b[1;33m)\u001b[0m\u001b[1;33m)\u001b[0m\u001b[1;33m\u001b[0m\u001b[0m\n",
      "\u001b[0;31mNameError\u001b[0m: name 't2' is not defined"
     ]
    }
   ],
   "source": [
    "gold = tag_list(brown.tagged_sents(categories='editorial'))\n",
    "test = tag_list(apply_tagger(t2, brown.tagged_sents(categories='editorial')))\n",
    "cm = nltk.ConfusionMatrix(gold, test)\n",
    "print(cm.pretty_format(sort_by_count=True, show_percents=True, truncate=9))"
   ]
  },
  {
   "cell_type": "code",
   "execution_count": 187,
   "metadata": {
    "collapsed": true
   },
   "outputs": [],
   "source": [
    "import math\n",
    "def entropy(labels):\n",
    "    freqdist = nltk.FreqDist(labels)\n",
    "    probs = [freqdist.freq(l) for l in freqdist]\n",
    "    return -sum(p * math.log(p,2) for p in probs)"
   ]
  },
  {
   "cell_type": "code",
   "execution_count": 188,
   "metadata": {
    "collapsed": false
   },
   "outputs": [
    {
     "name": "stdout",
     "output_type": "stream",
     "text": [
      "-0.0\n"
     ]
    }
   ],
   "source": [
    "print(entropy(['male', 'male', 'male', 'male'])) "
   ]
  },
  {
   "cell_type": "code",
   "execution_count": 189,
   "metadata": {
    "collapsed": false
   },
   "outputs": [
    {
     "name": "stdout",
     "output_type": "stream",
     "text": [
      "0.811278124459\n"
     ]
    }
   ],
   "source": [
    "print(entropy(['male', 'female', 'male', 'male']))"
   ]
  },
  {
   "cell_type": "code",
   "execution_count": 190,
   "metadata": {
    "collapsed": false
   },
   "outputs": [
    {
     "name": "stdout",
     "output_type": "stream",
     "text": [
      "1.0\n"
     ]
    }
   ],
   "source": [
    "print(entropy(['female', 'male', 'female', 'male']))"
   ]
  },
  {
   "cell_type": "code",
   "execution_count": 191,
   "metadata": {
    "collapsed": false
   },
   "outputs": [
    {
     "name": "stdout",
     "output_type": "stream",
     "text": [
      "0.811278124459\n"
     ]
    }
   ],
   "source": [
    "print(entropy(['female', 'female', 'male', 'female']))"
   ]
  },
  {
   "cell_type": "code",
   "execution_count": 192,
   "metadata": {
    "collapsed": false
   },
   "outputs": [
    {
     "name": "stdout",
     "output_type": "stream",
     "text": [
      "-0.0\n"
     ]
    }
   ],
   "source": [
    "print(entropy(['female', 'female', 'female', 'female'])) "
   ]
  },
  {
   "cell_type": "code",
   "execution_count": null,
   "metadata": {
    "collapsed": true
   },
   "outputs": [],
   "source": []
  }
 ],
 "metadata": {
  "kernelspec": {
   "display_name": "Python 2",
   "language": "python",
   "name": "python2"
  },
  "language_info": {
   "codemirror_mode": {
    "name": "ipython",
    "version": 2
   },
   "file_extension": ".py",
   "mimetype": "text/x-python",
   "name": "python",
   "nbconvert_exporter": "python",
   "pygments_lexer": "ipython2",
   "version": "2.7.12"
  }
 },
 "nbformat": 4,
 "nbformat_minor": 1
}
